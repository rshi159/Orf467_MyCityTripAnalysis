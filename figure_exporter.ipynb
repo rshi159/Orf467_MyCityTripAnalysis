{
 "cells": [
  {
   "cell_type": "code",
   "execution_count": 1,
   "metadata": {},
   "outputs": [],
   "source": [
    "import numpy as np\n",
    "import pandas as pd\n",
    "from matplotlib import pyplot as plt\n",
    "from datetime import time, timedelta\n",
    "import random\n",
    "from os import listdir\n",
    "from os.path import isfile, join\n",
    "random.seed(30)"
   ]
  },
  {
   "cell_type": "code",
   "execution_count": 2,
   "metadata": {},
   "outputs": [],
   "source": [
    "df=pd.read_csv('distance_matrix.csv', sep=',',header=None)\n",
    "file_index = 7\n",
    "mypath = \"./production and attraction python code\"\n",
    "# files = [\"row1.csv\",#0\n",
    "# \"row2.csv\",#1\n",
    "# \"row3_employed_homebased_shopping.csv\",#2\n",
    "# \"row3_unemployed_homebased_shopping.csv\",#3\n",
    "# \"row4.csv\",#4\n",
    "# \"row5.csv\",#5\n",
    "# \"row6_homebound_employed_shoppers.csv\",#6\n",
    "# \"row6_homebound_unemployed_shoppers.csv\",#7\n",
    "# \"row7_afterwork_recreate.csv\",#8\n",
    "# \"row7_coming_home_after_recreate.csv\",#9\n",
    "# \"row7_comingfromlunch.csv\",#10\n",
    "# \"row7_goingtolunch.csv\",#11\n",
    "# \"row8_afterschool_extracurricular.csv\",#12\n",
    "# \"row8_goinghome_extracurricular.csv\",#13\n",
    "# \"row9_employed_homebound_shopping.csv\",#14\n",
    "# \"row9_more_shopping_employed.csv\",#15\n",
    "# \"row9_more_shopping_unemployed.csv\",#16\n",
    "# \"row9_unemployed_homebound_shopping.csv\"]#17\n",
    "files = ['home_to_work',#0\n",
    "            'home_to_k12',#1\n",
    "            'home_to_college',#2\n",
    "            'home_to_school',#3\n",
    "            'home_to_SR_unemployed',#4\n",
    "            'home_to_SR_employed',#5\n",
    "            'work_to_home',#6\n",
    "            'school_to_home',#7\n",
    "            'SR_to_home_unemployed',#8\n",
    "            'SR_to_home_employed',#9\n",
    "            'work_to_lunch',#10\n",
    "            'lunch_to_work',#11\n",
    "            'work_to_SR',#12\n",
    "            'work_SR_to_home',#13\n",
    "            'school_to_SR',#14\n",
    "            'school_SR_to_home',#15\n",
    "            'SR_to_SR_unemployed',#16\n",
    "            'SR_to_SR_employed',#17\n",
    "            'SR_SR_to_home_unemployed',#18\n",
    "            'SR_SR_to_home_employed']#19\n",
    "#files = [f for f in listdir(mypath) if isfile(join(mypath, f)) and f[-4:] == \".csv\"]"
   ]
  },
  {
   "cell_type": "code",
   "execution_count": 3,
   "metadata": {},
   "outputs": [],
   "source": [
    "#start = ['06:30:00','06:30:00','18:00:00','10:00:00','16:00:00','15:00:00','11:00:00','19:00:00','16:00:00','17:00:00','12:30:00','11:30:00','15:00:00','17:00:00','10:00:00','20:00:00','20:00:00', '10:00:00']\n",
    "#end = ['08:30:00','08:00:00','21:00:00','14:00:00','18:00:00','16:00:00','15:00:00','22:00:00','17:00:00','18:00:00','13:30:00','12:30:00','16:00:00','18:00:00','20:00:00','23:30:00','23:30:00','20:00:00']\n",
    "start = [\"06:30:00\",\"07:30:00\",\"08:30:00\",\"09:30:00\",\"18:00:00\",\"10:00:00\",\"16:00:00\",\"15:00:00\",\"11:00:00\",\"19:00:00\",\"16:00:00\",\"17:00:00\",\"12:30:00\",\"11:30:00\",\"15:00:00\",\"17:00:00\",\"10:00:00\",\"11:00:00\",\"20:00:00\",\"20:00:00\"]\n",
    "end =   [\"08:30:00\",\"08:30:00\",\"08:00:00\",\"08:00:00\",\"21:00:00\",\"14:00:00\",\"18:00:00\",\"16:00:00\",\"15:00:00\",\"22:00:00\",\"17:00:00\",\"18:00:00\",\"13:30:00\",\"12:30:00\",\"16:00:00\",\"18:00:00\",\"20:00:00\",\"20:00:00\",\"23:30:00\",\"23:30:00\"]\n"
   ]
  },
  {
   "cell_type": "code",
   "execution_count": 4,
   "metadata": {},
   "outputs": [
    {
     "name": "stdout",
     "output_type": "stream",
     "text": [
      "20\n",
      "20\n",
      "20\n"
     ]
    }
   ],
   "source": [
    "print(len(files))\n",
    "print(len(start))\n",
    "print(len(end))"
   ]
  },
  {
   "cell_type": "code",
   "execution_count": 5,
   "metadata": {},
   "outputs": [],
   "source": [
    "DM = pd.DataFrame(df).to_numpy()\n",
    "#distance matrix? with diagonals representing the average distance traveled to get to zone center\n",
    "D = DM"
   ]
  },
  {
   "cell_type": "code",
   "execution_count": 6,
   "metadata": {},
   "outputs": [],
   "source": [
    "# Gravity model - given A, we want A^* to be used so sum_i T_ij = A_j\n",
    "# A_j is the total trip attraction at zone j\n",
    "#P_i = total trip production at zone i\n",
    "#T_ij is the trips produced at I and attracted to j\n",
    "#F_ij is the calibration term for interchange ij also known as the friction factor or tracel time factor\n",
    "\n",
    "def calculate_T(A, P, D):\n",
    "    # invert and square for disutility\n",
    "    F = np.power(D,-2)\n",
    "    T = np.zeros_like(D)\n",
    "    \n",
    "    for i in range(T.shape[0]):\n",
    "        for j in range(T.shape[1]):\n",
    "            denom = F[i,:] @ A\n",
    "            T[i,j] = P[i]*F[i,j]*A[j]/denom\n",
    "    \n",
    "    return T\n",
    "    \n",
    "def calculate_A_star(A, P, D):\n",
    "    A_old = A.copy()\n",
    "    C = np.ones_like(A)\n",
    "    eps = 1e1\n",
    "    n = A.shape[0]\n",
    "    \n",
    "    while (np.linalg.norm(C-A) > eps):\n",
    "        T = calculate_T(A_old, P, D)\n",
    "        C = T.sum(axis=0).reshape(n,1)\n",
    "        \n",
    "        for j in range(n):\n",
    "            if C[j] != 0:\n",
    "                A_old[j] = A[j]*A_old[j] / C[j]\n",
    "        \n",
    "    return A_old"
   ]
  },
  {
   "cell_type": "code",
   "execution_count": 7,
   "metadata": {},
   "outputs": [],
   "source": [
    "def generate_figure(D, file_index):\n",
<<<<<<< HEAD
    "    df1 = pd.read_csv(mypath + \"/\" + files[file_index] + \".csv\", sep=',',header=None).fillna(0)\n",
=======
    "    df1 = pd.read_csv(mypath + \"/\" + files[file_index], sep=',',header=None).fillna(0)\n",
>>>>>>> 93b4db69117cd9feb20e9ded31c55f3ba18a52e9
    "    header = df1.iloc[0]\n",
    "    df1 = df1.iloc[1:79]\n",
    "    df1.columns = header\n",
    "    #df1 = df1.drop(labels = ['iii', 'TAZ (8a)', 'iv'],axis = 1)\n",
    "    vec = df1\n",
<<<<<<< HEAD
=======
    "    print(vec)\n",
>>>>>>> 93b4db69117cd9feb20e9ded31c55f3ba18a52e9
    "    #convert entire dataframe from strings to int64 types. Select P and A arrays by column.\n",
    "    vec = vec.apply(pd.to_numeric)\n",
    "    trip_arr = vec.to_numpy()\n",
    "    P = trip_arr[:,1]\n",
    "    A = trip_arr[:,2]\n",
    "    dims = A.shape[0]\n",
    "    A = A.reshape(dims, 1)\n",
    "    P = P.reshape(dims, 1)\n",
    "    A_star = calculate_A_star(A, P, D)\n",
    "    T = calculate_T(A_star, P, D)\n",
    "    #cumulative dist\n",
    "    N = np.unravel_index(np.argsort(D.ravel()), np.shape(D))\n",
    "\n",
    "    y = np.zeros(np.size(T))\n",
    "    y_dens = np.zeros(np.size(T))\n",
    "    x = np.zeros(np.size(T))\n",
    "    for i in range(np.size(T)):\n",
    "        if i == 0:\n",
    "            y[i] = T[N[0][i], N[1][i]]\n",
    "        else:\n",
    "            y[i] = y[i-1] + T[N[0][i], N[1][i]]\n",
    "            y_dens[i] = T[N[0][i], N[1][i]]\n",
    "        x[i] = D[N[0][i], N[1][i]]\n",
    "    \n",
    "    #plots\n",
<<<<<<< HEAD
    "    output_name = files[file_index]\n",
=======
    "    output_name = files[file_index][:-4]\n",
>>>>>>> 93b4db69117cd9feb20e9ded31c55f3ba18a52e9
    "    normalize = True\n",
    "    plt.figure()\n",
    "    if normalize:\n",
    "        plt.plot(x,y/max(y))\n",
    "    else:\n",
    "        plt.plot(x,y)\n",
    "    plt.xlabel('Distance(miles)')\n",
    "    plt.ylabel('Probability d < Distance')\n",
    "    plt.title(\"CDF of trip distance for \" + output_name)\n",
    "    plt.grid()\n",
    "    plt.savefig(\"plots/\" + output_name + \"_cumdist.png\")\n",
    "    plt.clf()\n",
    "    plt.close()\n",
    "    \n",
    "    plt.figure()\n",
    "    if normalize:\n",
    "        plt.plot(x,y_dens/np.sum(y_dens))\n",
    "    else:\n",
    "        plt.plot(x,y_dens)\n",
    "    plt.xlabel('Distance(miles)')\n",
    "    plt.ylabel('Probability Density')\n",
    "    plt.title(\"PDF of trip distance for \"+output_name)\n",
    "    plt.grid()\n",
    "    plt.savefig(\"plots/\" + output_name + \"_dendist.png\")\n",
    "    plt.clf()\n",
    "    plt.close()"
   ]
  },
  {
   "cell_type": "code",
   "execution_count": 8,
   "metadata": {},
   "outputs": [
    {
<<<<<<< HEAD
     "name": "stdout",
     "output_type": "stream",
     "text": [
      "generated plots for iteration: 0\n",
      "generated plots for iteration: 1\n",
      "generated plots for iteration: 2\n",
      "generated plots for iteration: 3\n",
      "generated plots for iteration: 4\n",
      "generated plots for iteration: 5\n",
      "generated plots for iteration: 6\n",
      "generated plots for iteration: 7\n",
      "generated plots for iteration: 8\n",
      "generated plots for iteration: 9\n",
      "generated plots for iteration: 10\n",
      "generated plots for iteration: 11\n",
      "generated plots for iteration: 12\n",
      "generated plots for iteration: 13\n",
      "generated plots for iteration: 14\n",
      "generated plots for iteration: 15\n",
      "generated plots for iteration: 16\n",
      "generated plots for iteration: 17\n",
      "generated plots for iteration: 18\n",
      "generated plots for iteration: 19\n",
      ">>>>>>DONE<<<<<<<\n"
=======
     "ename": "FileNotFoundError",
     "evalue": "[Errno 2] File ./production and attraction python code/home_to_work does not exist: './production and attraction python code/home_to_work'",
     "output_type": "error",
     "traceback": [
      "\u001b[0;31m---------------------------------------------------------------------------\u001b[0m",
      "\u001b[0;31mFileNotFoundError\u001b[0m                         Traceback (most recent call last)",
      "\u001b[0;32m<ipython-input-8-27a427b9af04>\u001b[0m in \u001b[0;36m<module>\u001b[0;34m\u001b[0m\n\u001b[1;32m      1\u001b[0m \u001b[0;32mfor\u001b[0m \u001b[0mi\u001b[0m \u001b[0;32min\u001b[0m \u001b[0mrange\u001b[0m\u001b[0;34m(\u001b[0m\u001b[0mlen\u001b[0m\u001b[0;34m(\u001b[0m\u001b[0mfiles\u001b[0m\u001b[0;34m)\u001b[0m\u001b[0;34m)\u001b[0m\u001b[0;34m:\u001b[0m\u001b[0;34m\u001b[0m\u001b[0;34m\u001b[0m\u001b[0m\n\u001b[0;32m----> 2\u001b[0;31m     \u001b[0mgenerate_figure\u001b[0m\u001b[0;34m(\u001b[0m\u001b[0mD\u001b[0m\u001b[0;34m,\u001b[0m\u001b[0mi\u001b[0m\u001b[0;34m)\u001b[0m\u001b[0;34m\u001b[0m\u001b[0;34m\u001b[0m\u001b[0m\n\u001b[0m\u001b[1;32m      3\u001b[0m     \u001b[0mprint\u001b[0m\u001b[0;34m(\u001b[0m\u001b[0;34m\"generated plots for iteration: \"\u001b[0m \u001b[0;34m+\u001b[0m \u001b[0mstr\u001b[0m\u001b[0;34m(\u001b[0m\u001b[0mi\u001b[0m\u001b[0;34m)\u001b[0m\u001b[0;34m)\u001b[0m\u001b[0;34m\u001b[0m\u001b[0;34m\u001b[0m\u001b[0m\n\u001b[1;32m      4\u001b[0m \u001b[0mprint\u001b[0m\u001b[0;34m(\u001b[0m\u001b[0;34m\">>>>>>DONE<<<<<<<\"\u001b[0m\u001b[0;34m)\u001b[0m\u001b[0;34m\u001b[0m\u001b[0;34m\u001b[0m\u001b[0m\n",
      "\u001b[0;32m<ipython-input-7-6ab7ff3de396>\u001b[0m in \u001b[0;36mgenerate_figure\u001b[0;34m(D, file_index)\u001b[0m\n\u001b[1;32m      1\u001b[0m \u001b[0;32mdef\u001b[0m \u001b[0mgenerate_figure\u001b[0m\u001b[0;34m(\u001b[0m\u001b[0mD\u001b[0m\u001b[0;34m,\u001b[0m \u001b[0mfile_index\u001b[0m\u001b[0;34m)\u001b[0m\u001b[0;34m:\u001b[0m\u001b[0;34m\u001b[0m\u001b[0;34m\u001b[0m\u001b[0m\n\u001b[0;32m----> 2\u001b[0;31m     \u001b[0mdf1\u001b[0m \u001b[0;34m=\u001b[0m \u001b[0mpd\u001b[0m\u001b[0;34m.\u001b[0m\u001b[0mread_csv\u001b[0m\u001b[0;34m(\u001b[0m\u001b[0mmypath\u001b[0m \u001b[0;34m+\u001b[0m \u001b[0;34m\"/\"\u001b[0m \u001b[0;34m+\u001b[0m \u001b[0mfiles\u001b[0m\u001b[0;34m[\u001b[0m\u001b[0mfile_index\u001b[0m\u001b[0;34m]\u001b[0m\u001b[0;34m,\u001b[0m \u001b[0msep\u001b[0m\u001b[0;34m=\u001b[0m\u001b[0;34m','\u001b[0m\u001b[0;34m,\u001b[0m\u001b[0mheader\u001b[0m\u001b[0;34m=\u001b[0m\u001b[0;32mNone\u001b[0m\u001b[0;34m)\u001b[0m\u001b[0;34m.\u001b[0m\u001b[0mfillna\u001b[0m\u001b[0;34m(\u001b[0m\u001b[0;36m0\u001b[0m\u001b[0;34m)\u001b[0m\u001b[0;34m\u001b[0m\u001b[0;34m\u001b[0m\u001b[0m\n\u001b[0m\u001b[1;32m      3\u001b[0m     \u001b[0mheader\u001b[0m \u001b[0;34m=\u001b[0m \u001b[0mdf1\u001b[0m\u001b[0;34m.\u001b[0m\u001b[0miloc\u001b[0m\u001b[0;34m[\u001b[0m\u001b[0;36m0\u001b[0m\u001b[0;34m]\u001b[0m\u001b[0;34m\u001b[0m\u001b[0;34m\u001b[0m\u001b[0m\n\u001b[1;32m      4\u001b[0m     \u001b[0mdf1\u001b[0m \u001b[0;34m=\u001b[0m \u001b[0mdf1\u001b[0m\u001b[0;34m.\u001b[0m\u001b[0miloc\u001b[0m\u001b[0;34m[\u001b[0m\u001b[0;36m1\u001b[0m\u001b[0;34m:\u001b[0m\u001b[0;36m79\u001b[0m\u001b[0;34m]\u001b[0m\u001b[0;34m\u001b[0m\u001b[0;34m\u001b[0m\u001b[0m\n\u001b[1;32m      5\u001b[0m     \u001b[0mdf1\u001b[0m\u001b[0;34m.\u001b[0m\u001b[0mcolumns\u001b[0m \u001b[0;34m=\u001b[0m \u001b[0mheader\u001b[0m\u001b[0;34m\u001b[0m\u001b[0;34m\u001b[0m\u001b[0m\n",
      "\u001b[0;32m~/opt/anaconda3/lib/python3.8/site-packages/pandas/io/parsers.py\u001b[0m in \u001b[0;36mparser_f\u001b[0;34m(filepath_or_buffer, sep, delimiter, header, names, index_col, usecols, squeeze, prefix, mangle_dupe_cols, dtype, engine, converters, true_values, false_values, skipinitialspace, skiprows, skipfooter, nrows, na_values, keep_default_na, na_filter, verbose, skip_blank_lines, parse_dates, infer_datetime_format, keep_date_col, date_parser, dayfirst, cache_dates, iterator, chunksize, compression, thousands, decimal, lineterminator, quotechar, quoting, doublequote, escapechar, comment, encoding, dialect, error_bad_lines, warn_bad_lines, delim_whitespace, low_memory, memory_map, float_precision)\u001b[0m\n\u001b[1;32m    674\u001b[0m         )\n\u001b[1;32m    675\u001b[0m \u001b[0;34m\u001b[0m\u001b[0m\n\u001b[0;32m--> 676\u001b[0;31m         \u001b[0;32mreturn\u001b[0m \u001b[0m_read\u001b[0m\u001b[0;34m(\u001b[0m\u001b[0mfilepath_or_buffer\u001b[0m\u001b[0;34m,\u001b[0m \u001b[0mkwds\u001b[0m\u001b[0;34m)\u001b[0m\u001b[0;34m\u001b[0m\u001b[0;34m\u001b[0m\u001b[0m\n\u001b[0m\u001b[1;32m    677\u001b[0m \u001b[0;34m\u001b[0m\u001b[0m\n\u001b[1;32m    678\u001b[0m     \u001b[0mparser_f\u001b[0m\u001b[0;34m.\u001b[0m\u001b[0m__name__\u001b[0m \u001b[0;34m=\u001b[0m \u001b[0mname\u001b[0m\u001b[0;34m\u001b[0m\u001b[0;34m\u001b[0m\u001b[0m\n",
      "\u001b[0;32m~/opt/anaconda3/lib/python3.8/site-packages/pandas/io/parsers.py\u001b[0m in \u001b[0;36m_read\u001b[0;34m(filepath_or_buffer, kwds)\u001b[0m\n\u001b[1;32m    446\u001b[0m \u001b[0;34m\u001b[0m\u001b[0m\n\u001b[1;32m    447\u001b[0m     \u001b[0;31m# Create the parser.\u001b[0m\u001b[0;34m\u001b[0m\u001b[0;34m\u001b[0m\u001b[0;34m\u001b[0m\u001b[0m\n\u001b[0;32m--> 448\u001b[0;31m     \u001b[0mparser\u001b[0m \u001b[0;34m=\u001b[0m \u001b[0mTextFileReader\u001b[0m\u001b[0;34m(\u001b[0m\u001b[0mfp_or_buf\u001b[0m\u001b[0;34m,\u001b[0m \u001b[0;34m**\u001b[0m\u001b[0mkwds\u001b[0m\u001b[0;34m)\u001b[0m\u001b[0;34m\u001b[0m\u001b[0;34m\u001b[0m\u001b[0m\n\u001b[0m\u001b[1;32m    449\u001b[0m \u001b[0;34m\u001b[0m\u001b[0m\n\u001b[1;32m    450\u001b[0m     \u001b[0;32mif\u001b[0m \u001b[0mchunksize\u001b[0m \u001b[0;32mor\u001b[0m \u001b[0miterator\u001b[0m\u001b[0;34m:\u001b[0m\u001b[0;34m\u001b[0m\u001b[0;34m\u001b[0m\u001b[0m\n",
      "\u001b[0;32m~/opt/anaconda3/lib/python3.8/site-packages/pandas/io/parsers.py\u001b[0m in \u001b[0;36m__init__\u001b[0;34m(self, f, engine, **kwds)\u001b[0m\n\u001b[1;32m    878\u001b[0m             \u001b[0mself\u001b[0m\u001b[0;34m.\u001b[0m\u001b[0moptions\u001b[0m\u001b[0;34m[\u001b[0m\u001b[0;34m\"has_index_names\"\u001b[0m\u001b[0;34m]\u001b[0m \u001b[0;34m=\u001b[0m \u001b[0mkwds\u001b[0m\u001b[0;34m[\u001b[0m\u001b[0;34m\"has_index_names\"\u001b[0m\u001b[0;34m]\u001b[0m\u001b[0;34m\u001b[0m\u001b[0;34m\u001b[0m\u001b[0m\n\u001b[1;32m    879\u001b[0m \u001b[0;34m\u001b[0m\u001b[0m\n\u001b[0;32m--> 880\u001b[0;31m         \u001b[0mself\u001b[0m\u001b[0;34m.\u001b[0m\u001b[0m_make_engine\u001b[0m\u001b[0;34m(\u001b[0m\u001b[0mself\u001b[0m\u001b[0;34m.\u001b[0m\u001b[0mengine\u001b[0m\u001b[0;34m)\u001b[0m\u001b[0;34m\u001b[0m\u001b[0;34m\u001b[0m\u001b[0m\n\u001b[0m\u001b[1;32m    881\u001b[0m \u001b[0;34m\u001b[0m\u001b[0m\n\u001b[1;32m    882\u001b[0m     \u001b[0;32mdef\u001b[0m \u001b[0mclose\u001b[0m\u001b[0;34m(\u001b[0m\u001b[0mself\u001b[0m\u001b[0;34m)\u001b[0m\u001b[0;34m:\u001b[0m\u001b[0;34m\u001b[0m\u001b[0;34m\u001b[0m\u001b[0m\n",
      "\u001b[0;32m~/opt/anaconda3/lib/python3.8/site-packages/pandas/io/parsers.py\u001b[0m in \u001b[0;36m_make_engine\u001b[0;34m(self, engine)\u001b[0m\n\u001b[1;32m   1112\u001b[0m     \u001b[0;32mdef\u001b[0m \u001b[0m_make_engine\u001b[0m\u001b[0;34m(\u001b[0m\u001b[0mself\u001b[0m\u001b[0;34m,\u001b[0m \u001b[0mengine\u001b[0m\u001b[0;34m=\u001b[0m\u001b[0;34m\"c\"\u001b[0m\u001b[0;34m)\u001b[0m\u001b[0;34m:\u001b[0m\u001b[0;34m\u001b[0m\u001b[0;34m\u001b[0m\u001b[0m\n\u001b[1;32m   1113\u001b[0m         \u001b[0;32mif\u001b[0m \u001b[0mengine\u001b[0m \u001b[0;34m==\u001b[0m \u001b[0;34m\"c\"\u001b[0m\u001b[0;34m:\u001b[0m\u001b[0;34m\u001b[0m\u001b[0;34m\u001b[0m\u001b[0m\n\u001b[0;32m-> 1114\u001b[0;31m             \u001b[0mself\u001b[0m\u001b[0;34m.\u001b[0m\u001b[0m_engine\u001b[0m \u001b[0;34m=\u001b[0m \u001b[0mCParserWrapper\u001b[0m\u001b[0;34m(\u001b[0m\u001b[0mself\u001b[0m\u001b[0;34m.\u001b[0m\u001b[0mf\u001b[0m\u001b[0;34m,\u001b[0m \u001b[0;34m**\u001b[0m\u001b[0mself\u001b[0m\u001b[0;34m.\u001b[0m\u001b[0moptions\u001b[0m\u001b[0;34m)\u001b[0m\u001b[0;34m\u001b[0m\u001b[0;34m\u001b[0m\u001b[0m\n\u001b[0m\u001b[1;32m   1115\u001b[0m         \u001b[0;32melse\u001b[0m\u001b[0;34m:\u001b[0m\u001b[0;34m\u001b[0m\u001b[0;34m\u001b[0m\u001b[0m\n\u001b[1;32m   1116\u001b[0m             \u001b[0;32mif\u001b[0m \u001b[0mengine\u001b[0m \u001b[0;34m==\u001b[0m \u001b[0;34m\"python\"\u001b[0m\u001b[0;34m:\u001b[0m\u001b[0;34m\u001b[0m\u001b[0;34m\u001b[0m\u001b[0m\n",
      "\u001b[0;32m~/opt/anaconda3/lib/python3.8/site-packages/pandas/io/parsers.py\u001b[0m in \u001b[0;36m__init__\u001b[0;34m(self, src, **kwds)\u001b[0m\n\u001b[1;32m   1889\u001b[0m         \u001b[0mkwds\u001b[0m\u001b[0;34m[\u001b[0m\u001b[0;34m\"usecols\"\u001b[0m\u001b[0;34m]\u001b[0m \u001b[0;34m=\u001b[0m \u001b[0mself\u001b[0m\u001b[0;34m.\u001b[0m\u001b[0musecols\u001b[0m\u001b[0;34m\u001b[0m\u001b[0;34m\u001b[0m\u001b[0m\n\u001b[1;32m   1890\u001b[0m \u001b[0;34m\u001b[0m\u001b[0m\n\u001b[0;32m-> 1891\u001b[0;31m         \u001b[0mself\u001b[0m\u001b[0;34m.\u001b[0m\u001b[0m_reader\u001b[0m \u001b[0;34m=\u001b[0m \u001b[0mparsers\u001b[0m\u001b[0;34m.\u001b[0m\u001b[0mTextReader\u001b[0m\u001b[0;34m(\u001b[0m\u001b[0msrc\u001b[0m\u001b[0;34m,\u001b[0m \u001b[0;34m**\u001b[0m\u001b[0mkwds\u001b[0m\u001b[0;34m)\u001b[0m\u001b[0;34m\u001b[0m\u001b[0;34m\u001b[0m\u001b[0m\n\u001b[0m\u001b[1;32m   1892\u001b[0m         \u001b[0mself\u001b[0m\u001b[0;34m.\u001b[0m\u001b[0munnamed_cols\u001b[0m \u001b[0;34m=\u001b[0m \u001b[0mself\u001b[0m\u001b[0;34m.\u001b[0m\u001b[0m_reader\u001b[0m\u001b[0;34m.\u001b[0m\u001b[0munnamed_cols\u001b[0m\u001b[0;34m\u001b[0m\u001b[0;34m\u001b[0m\u001b[0m\n\u001b[1;32m   1893\u001b[0m \u001b[0;34m\u001b[0m\u001b[0m\n",
      "\u001b[0;32mpandas/_libs/parsers.pyx\u001b[0m in \u001b[0;36mpandas._libs.parsers.TextReader.__cinit__\u001b[0;34m()\u001b[0m\n",
      "\u001b[0;32mpandas/_libs/parsers.pyx\u001b[0m in \u001b[0;36mpandas._libs.parsers.TextReader._setup_parser_source\u001b[0;34m()\u001b[0m\n",
      "\u001b[0;31mFileNotFoundError\u001b[0m: [Errno 2] File ./production and attraction python code/home_to_work does not exist: './production and attraction python code/home_to_work'"
>>>>>>> 93b4db69117cd9feb20e9ded31c55f3ba18a52e9
     ]
    }
   ],
   "source": [
    "for i in range(len(files)):\n",
    "    generate_figure(D,i)\n",
    "    print(\"generated plots for iteration: \" + str(i))\n",
    "print(\">>>>>>DONE<<<<<<<\")"
   ]
  },
  {
   "cell_type": "code",
   "execution_count": null,
   "metadata": {},
   "outputs": [],
   "source": []
  },
  {
   "cell_type": "code",
   "execution_count": null,
   "metadata": {},
   "outputs": [],
   "source": []
  }
 ],
 "metadata": {
  "kernelspec": {
   "display_name": "Python 3",
   "language": "python",
   "name": "python3"
  },
  "language_info": {
   "codemirror_mode": {
    "name": "ipython",
    "version": 3
   },
   "file_extension": ".py",
   "mimetype": "text/x-python",
   "name": "python",
   "nbconvert_exporter": "python",
   "pygments_lexer": "ipython3",
   "version": "3.8.3"
  },
  "toc": {
   "base_numbering": 1,
   "nav_menu": {},
   "number_sections": true,
   "sideBar": true,
   "skip_h1_title": false,
   "title_cell": "Table of Contents",
   "title_sidebar": "Contents",
   "toc_cell": false,
   "toc_position": {},
   "toc_section_display": true,
   "toc_window_display": false
  }
 },
 "nbformat": 4,
 "nbformat_minor": 4
}
