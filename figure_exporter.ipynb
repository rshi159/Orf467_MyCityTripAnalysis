{
 "cells": [
  {
   "cell_type": "code",
   "execution_count": 1,
   "metadata": {},
   "outputs": [],
   "source": [
    "import numpy as np\n",
    "import pandas as pd\n",
    "from matplotlib import pyplot as plt\n",
    "from datetime import time, timedelta\n",
    "import random\n",
    "from os import listdir\n",
    "from os.path import isfile, join\n",
    "random.seed(30)"
   ]
  },
  {
   "cell_type": "code",
   "execution_count": 2,
   "metadata": {},
   "outputs": [],
   "source": [
    "df=pd.read_csv('distance_matrix.csv', sep=',',header=None)\n",
    "file_index = 7\n",
    "mypath = \"./production and attraction python code\"\n",
    "# files = [\"row1.csv\",#0\n",
    "# \"row2.csv\",#1\n",
    "# \"row3_employed_homebased_shopping.csv\",#2\n",
    "# \"row3_unemployed_homebased_shopping.csv\",#3\n",
    "# \"row4.csv\",#4\n",
    "# \"row5.csv\",#5\n",
    "# \"row6_homebound_employed_shoppers.csv\",#6\n",
    "# \"row6_homebound_unemployed_shoppers.csv\",#7\n",
    "# \"row7_afterwork_recreate.csv\",#8\n",
    "# \"row7_coming_home_after_recreate.csv\",#9\n",
    "# \"row7_comingfromlunch.csv\",#10\n",
    "# \"row7_goingtolunch.csv\",#11\n",
    "# \"row8_afterschool_extracurricular.csv\",#12\n",
    "# \"row8_goinghome_extracurricular.csv\",#13\n",
    "# \"row9_employed_homebound_shopping.csv\",#14\n",
    "# \"row9_more_shopping_employed.csv\",#15\n",
    "# \"row9_more_shopping_unemployed.csv\",#16\n",
    "# \"row9_unemployed_homebound_shopping.csv\"]#17\n",
    "files = ['home_to_work',#0\n",
    "            'home_to_k12',#1\n",
    "            'home_to_college',#2\n",
    "            'home_to_school',#3\n",
    "            'home_to_SR_unemployed',#4\n",
    "            'home_to_SR_employed',#5\n",
    "            'work_to_home',#6\n",
    "            'school_to_home',#7\n",
    "            'SR_to_home_unemployed',#8\n",
    "            'SR_to_home_employed',#9\n",
    "            'work_to_lunch',#10\n",
    "            'lunch_to_work',#11\n",
    "            'work_to_SR',#12\n",
    "            'work_SR_to_home',#13\n",
    "            'school_to_SR',#14\n",
    "            'school_SR_to_home',#15\n",
    "            'SR_to_SR_unemployed',#16\n",
    "            'SR_to_SR_employed',#17\n",
    "            'SR_SR_to_home_unemployed',#18\n",
    "            'SR_SR_to_home_employed']#19\n",
    "#files = [f for f in listdir(mypath) if isfile(join(mypath, f)) and f[-4:] == \".csv\"]"
   ]
  },
  {
   "cell_type": "code",
   "execution_count": 3,
   "metadata": {},
   "outputs": [],
   "source": [
    "#start = ['06:30:00','06:30:00','18:00:00','10:00:00','16:00:00','15:00:00','11:00:00','19:00:00','16:00:00','17:00:00','12:30:00','11:30:00','15:00:00','17:00:00','10:00:00','20:00:00','20:00:00', '10:00:00']\n",
    "#end = ['08:30:00','08:00:00','21:00:00','14:00:00','18:00:00','16:00:00','15:00:00','22:00:00','17:00:00','18:00:00','13:30:00','12:30:00','16:00:00','18:00:00','20:00:00','23:30:00','23:30:00','20:00:00']\n",
    "start = [\"06:30:00\",\"07:30:00\",\"08:30:00\",\"09:30:00\",\"18:00:00\",\"10:00:00\",\"16:00:00\",\"15:00:00\",\"11:00:00\",\"19:00:00\",\"16:00:00\",\"17:00:00\",\"12:30:00\",\"11:30:00\",\"15:00:00\",\"17:00:00\",\"10:00:00\",\"11:00:00\",\"20:00:00\",\"20:00:00\"]\n",
    "end =   [\"08:30:00\",\"08:30:00\",\"08:00:00\",\"08:00:00\",\"21:00:00\",\"14:00:00\",\"18:00:00\",\"16:00:00\",\"15:00:00\",\"22:00:00\",\"17:00:00\",\"18:00:00\",\"13:30:00\",\"12:30:00\",\"16:00:00\",\"18:00:00\",\"20:00:00\",\"20:00:00\",\"23:30:00\",\"23:30:00\"]\n"
   ]
  },
  {
   "cell_type": "code",
   "execution_count": 4,
   "metadata": {},
   "outputs": [
    {
     "name": "stdout",
     "output_type": "stream",
     "text": [
      "20\n",
      "20\n",
      "20\n"
     ]
    }
   ],
   "source": [
    "print(len(files))\n",
    "print(len(start))\n",
    "print(len(end))"
   ]
  },
  {
   "cell_type": "code",
   "execution_count": 5,
   "metadata": {},
   "outputs": [],
   "source": [
    "DM = pd.DataFrame(df).to_numpy()\n",
    "#distance matrix? with diagonals representing the average distance traveled to get to zone center\n",
    "D = DM"
   ]
  },
  {
   "cell_type": "code",
   "execution_count": 6,
   "metadata": {},
   "outputs": [],
   "source": [
    "# Gravity model - given A, we want A^* to be used so sum_i T_ij = A_j\n",
    "# A_j is the total trip attraction at zone j\n",
    "#P_i = total trip production at zone i\n",
    "#T_ij is the trips produced at I and attracted to j\n",
    "#F_ij is the calibration term for interchange ij also known as the friction factor or tracel time factor\n",
    "\n",
    "def calculate_T(A, P, D):\n",
    "    # invert and square for disutility\n",
    "    F = np.power(D,-2)\n",
    "    T = np.zeros_like(D)\n",
    "    \n",
    "    for i in range(T.shape[0]):\n",
    "        for j in range(T.shape[1]):\n",
    "            denom = F[i,:] @ A\n",
    "            T[i,j] = P[i]*F[i,j]*A[j]/denom\n",
    "    \n",
    "    return T\n",
    "    \n",
    "def calculate_A_star(A, P, D):\n",
    "    A_old = A.copy()\n",
    "    C = np.ones_like(A)\n",
    "    eps = 1e1\n",
    "    n = A.shape[0]\n",
    "    \n",
    "    while (np.linalg.norm(C-A) > eps):\n",
    "        T = calculate_T(A_old, P, D)\n",
    "        C = T.sum(axis=0).reshape(n,1)\n",
    "        \n",
    "        for j in range(n):\n",
    "            if C[j] != 0:\n",
    "                A_old[j] = A[j]*A_old[j] / C[j]\n",
    "        \n",
    "    return A_old"
   ]
  },
  {
   "cell_type": "code",
   "execution_count": 7,
   "metadata": {},
   "outputs": [],
   "source": [
    "def generate_figure(D, file_index):\n",
    "    df1 = pd.read_csv(mypath + \"/\" + files[file_index] + \".csv\", sep=',',header=None).fillna(0)\n",
    "    header = df1.iloc[0]\n",
    "    df1 = df1.iloc[1:79]\n",
    "    df1.columns = header\n",
    "    #df1 = df1.drop(labels = ['iii', 'TAZ (8a)', 'iv'],axis = 1)\n",
    "    vec = df1\n",
    "    #convert entire dataframe from strings to int64 types. Select P and A arrays by column.\n",
    "    vec = vec.apply(pd.to_numeric)\n",
    "    trip_arr = vec.to_numpy()\n",
    "    P = trip_arr[:,1]\n",
    "    A = trip_arr[:,2]\n",
    "    dims = A.shape[0]\n",
    "    A = A.reshape(dims, 1)\n",
    "    P = P.reshape(dims, 1)\n",
    "    A_star = calculate_A_star(A, P, D)\n",
    "    T = calculate_T(A_star, P, D)\n",
    "    #cumulative dist\n",
    "    N = np.unravel_index(np.argsort(D.ravel()), np.shape(D))\n",
    "\n",
    "    y = np.zeros(np.size(T))\n",
    "    y_dens = np.zeros(np.size(T))\n",
    "    x = np.zeros(np.size(T))\n",
    "    for i in range(np.size(T)):\n",
    "        if i == 0:\n",
    "            y[i] = T[N[0][i], N[1][i]]\n",
    "        else:\n",
    "            y[i] = y[i-1] + T[N[0][i], N[1][i]]\n",
    "            y_dens[i] = T[N[0][i], N[1][i]]\n",
    "        x[i] = D[N[0][i], N[1][i]]\n",
    "    \n",
    "    #plots\n",
    "    output_name = files[file_index][:-4]\n",
    "    normalize = True\n",
    "    plt.figure()\n",
    "    if normalize:\n",
    "        plt.plot(x,y/max(y))\n",
    "    else:\n",
    "        plt.plot(x,y)\n",
    "    plt.xlabel('Distance(miles)')\n",
    "    plt.ylabel('Probability d < Distance')\n",
    "    plt.title(\"CDF of trip distance for \" + output_name)\n",
    "    plt.grid()\n",
    "    plt.savefig(\"plots/\" + output_name + \"_cumdist.png\")\n",
    "    plt.clf()\n",
    "    plt.close()\n",
    "    \n",
    "    plt.figure()\n",
    "    if normalize:\n",
    "        plt.plot(x,y_dens/np.sum(y_dens))\n",
    "    else:\n",
    "        plt.plot(x,y_dens)\n",
    "    plt.xlabel('Distance(miles)')\n",
    "    plt.ylabel('Probability Density')\n",
    "    plt.title(\"PDF of trip distance for \"+output_name)\n",
    "    plt.grid()\n",
    "    plt.savefig(\"plots/\" + output_name + \"_dendist.png\")\n",
    "    plt.clf()\n",
    "    plt.close()"
   ]
  },
  {
   "cell_type": "code",
   "execution_count": 8,
   "metadata": {},
   "outputs": [
    {
     "name": "stdout",
     "output_type": "stream",
     "text": [
      "generated plots for iteration: 0\n",
      "generated plots for iteration: 1\n",
      "generated plots for iteration: 2\n",
      "generated plots for iteration: 3\n",
      "generated plots for iteration: 4\n",
      "generated plots for iteration: 5\n",
      "generated plots for iteration: 6\n",
      "generated plots for iteration: 7\n",
      "generated plots for iteration: 8\n",
      "generated plots for iteration: 9\n",
      "generated plots for iteration: 10\n",
      "generated plots for iteration: 11\n",
      "generated plots for iteration: 12\n",
      "generated plots for iteration: 13\n",
      "generated plots for iteration: 14\n",
      "generated plots for iteration: 15\n",
      "generated plots for iteration: 16\n",
      "generated plots for iteration: 17\n",
      "generated plots for iteration: 18\n",
      "generated plots for iteration: 19\n",
      ">>>>>>DONE<<<<<<<\n"
     ]
    }
   ],
   "source": [
    "for i in range(len(files)):\n",
    "    generate_figure(D,i)\n",
    "    print(\"generated plots for iteration: \" + str(i))\n",
    "print(\">>>>>>DONE<<<<<<<\")"
   ]
  },
  {
   "cell_type": "code",
   "execution_count": null,
   "metadata": {},
   "outputs": [],
   "source": []
  },
  {
   "cell_type": "code",
   "execution_count": null,
   "metadata": {},
   "outputs": [],
   "source": []
  }
 ],
 "metadata": {
  "kernelspec": {
   "display_name": "Python 3",
   "language": "python",
   "name": "python3"
  },
  "language_info": {
   "codemirror_mode": {
    "name": "ipython",
    "version": 3
   },
   "file_extension": ".py",
   "mimetype": "text/x-python",
   "name": "python",
   "nbconvert_exporter": "python",
   "pygments_lexer": "ipython3",
   "version": "3.8.3"
  },
  "toc": {
   "base_numbering": 1,
   "nav_menu": {},
   "number_sections": true,
   "sideBar": true,
   "skip_h1_title": false,
   "title_cell": "Table of Contents",
   "title_sidebar": "Contents",
   "toc_cell": false,
   "toc_position": {},
   "toc_section_display": true,
   "toc_window_display": false
  }
 },
 "nbformat": 4,
 "nbformat_minor": 4
}
