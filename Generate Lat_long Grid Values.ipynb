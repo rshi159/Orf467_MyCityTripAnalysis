{
 "cells": [
  {
   "cell_type": "code",
   "execution_count": 1,
   "metadata": {},
   "outputs": [],
   "source": [
    "import numpy as np\n",
    "import pandas as pd"
   ]
  },
  {
   "cell_type": "code",
   "execution_count": 2,
   "metadata": {},
   "outputs": [],
   "source": [
    "lat = np.linspace(37.90768039,37.67637961,num = 32,endpoint = True)\n",
    "lon = np.linspace(-122.5191224,-122.2878216, num = 32,endpoint = True)"
   ]
  },
  {
   "cell_type": "code",
   "execution_count": 3,
   "metadata": {},
   "outputs": [
    {
     "data": {
      "text/plain": [
       "array([37.90768039, 37.90021907, 37.89275776, 37.88529644, 37.87783513,\n",
       "       37.87037381, 37.8629125 , 37.85545118, 37.84798987, 37.84052855,\n",
       "       37.83306724, 37.82560592, 37.8181446 , 37.81068329, 37.80322197,\n",
       "       37.79576066, 37.78829934, 37.78083803, 37.77337671, 37.7659154 ,\n",
       "       37.75845408, 37.75099276, 37.74353145, 37.73607013, 37.72860882,\n",
       "       37.7211475 , 37.71368619, 37.70622487, 37.69876356, 37.69130224,\n",
       "       37.68384093, 37.67637961])"
      ]
     },
     "execution_count": 3,
     "metadata": {},
     "output_type": "execute_result"
    }
   ],
   "source": [
    "np.shape(lat)\n",
    "lat"
   ]
  },
  {
   "cell_type": "code",
   "execution_count": 28,
   "metadata": {},
   "outputs": [],
   "source": [
    "a = np.array([[0,0,\" \"]])\n",
    "for i in range(len(lat)):\n",
    "    la = lat[i]\n",
    "    for j in range(len(lon)):\n",
    "        lo = lon[j]\n",
    "        lab = str(i) + \"||\" + str(j)\n",
    "        a = np.concatenate((a, np.array([[la, lo, lab]])), axis = 0)\n",
    "a = np.delete(a,0,0)"
   ]
  },
  {
   "cell_type": "code",
   "execution_count": 29,
   "metadata": {},
   "outputs": [
    {
     "data": {
      "text/plain": [
       "(1024, 3)"
      ]
     },
     "execution_count": 29,
     "metadata": {},
     "output_type": "execute_result"
    }
   ],
   "source": [
    "np.shape(a)"
   ]
  },
  {
   "cell_type": "code",
   "execution_count": 30,
   "metadata": {},
   "outputs": [],
   "source": [
    "df = pd.DataFrame(a)"
   ]
  },
  {
   "cell_type": "code",
   "execution_count": 31,
   "metadata": {},
   "outputs": [],
   "source": [
    "df.to_csv(\"modified_lat_lon.csv\")"
   ]
  },
  {
   "cell_type": "code",
   "execution_count": 8,
   "metadata": {},
   "outputs": [
    {
     "data": {
      "text/plain": [
       "array([-0.00746132, -0.00746132, -0.00746132, -0.00746132, -0.00746132,\n",
       "       -0.00746132, -0.00746132, -0.00746132, -0.00746132, -0.00746132,\n",
       "       -0.00746132, -0.00746132, -0.00746132, -0.00746132, -0.00746132,\n",
       "       -0.00746132, -0.00746132, -0.00746132, -0.00746132, -0.00746132,\n",
       "       -0.00746132, -0.00746132, -0.00746132, -0.00746132, -0.00746132,\n",
       "       -0.00746132, -0.00746132, -0.00746132, -0.00746132, -0.00746132,\n",
       "       -0.00746132])"
      ]
     },
     "execution_count": 8,
     "metadata": {},
     "output_type": "execute_result"
    }
   ],
   "source": [
    "np.diff(lat)"
   ]
  },
  {
   "cell_type": "code",
   "execution_count": 9,
   "metadata": {},
   "outputs": [],
   "source": [
    "lat_step = (37.67637961-37.90768039) / 31.0\n",
    "lon_step = (-122.2878216 - -122.5191224) / 31.0"
   ]
  },
  {
   "cell_type": "code",
   "execution_count": 33,
   "metadata": {},
   "outputs": [
    {
     "data": {
      "text/html": [
       "<div>\n",
       "<style scoped>\n",
       "    .dataframe tbody tr th:only-of-type {\n",
       "        vertical-align: middle;\n",
       "    }\n",
       "\n",
       "    .dataframe tbody tr th {\n",
       "        vertical-align: top;\n",
       "    }\n",
       "\n",
       "    .dataframe thead th {\n",
       "        text-align: right;\n",
       "    }\n",
       "</style>\n",
       "<table border=\"1\" class=\"dataframe\">\n",
       "  <thead>\n",
       "    <tr style=\"text-align: right;\">\n",
       "      <th></th>\n",
       "      <th>TAZ</th>\n",
       "      <th>Label</th>\n",
       "      <th>Pix_Count</th>\n",
       "      <th>X_Centroid</th>\n",
       "      <th>Y_Centroid</th>\n",
       "      <th>Var6</th>\n",
       "    </tr>\n",
       "  </thead>\n",
       "  <tbody>\n",
       "    <tr>\n",
       "      <th>1</th>\n",
       "      <td>1</td>\n",
       "      <td>6</td>\n",
       "      <td>9</td>\n",
       "      <td>2.888888889</td>\n",
       "      <td>4.666666667</td>\n",
       "      <td>Residential</td>\n",
       "    </tr>\n",
       "    <tr>\n",
       "      <th>2</th>\n",
       "      <td>2</td>\n",
       "      <td>2</td>\n",
       "      <td>3</td>\n",
       "      <td>2</td>\n",
       "      <td>4</td>\n",
       "      <td>Greenland</td>\n",
       "    </tr>\n",
       "    <tr>\n",
       "      <th>3</th>\n",
       "      <td>3</td>\n",
       "      <td>3</td>\n",
       "      <td>1</td>\n",
       "      <td>2</td>\n",
       "      <td>7</td>\n",
       "      <td>Beach (leisure)</td>\n",
       "    </tr>\n",
       "    <tr>\n",
       "      <th>4</th>\n",
       "      <td>4</td>\n",
       "      <td>1</td>\n",
       "      <td>247</td>\n",
       "      <td>8.497975709</td>\n",
       "      <td>18.15789474</td>\n",
       "      <td>Seawater</td>\n",
       "    </tr>\n",
       "    <tr>\n",
       "      <th>5</th>\n",
       "      <td>5</td>\n",
       "      <td>6</td>\n",
       "      <td>7</td>\n",
       "      <td>2.285714286</td>\n",
       "      <td>21.42857143</td>\n",
       "      <td>Residential</td>\n",
       "    </tr>\n",
       "    <tr>\n",
       "      <th>...</th>\n",
       "      <td>...</td>\n",
       "      <td>...</td>\n",
       "      <td>...</td>\n",
       "      <td>...</td>\n",
       "      <td>...</td>\n",
       "      <td>...</td>\n",
       "    </tr>\n",
       "    <tr>\n",
       "      <th>74</th>\n",
       "      <td>74</td>\n",
       "      <td>8</td>\n",
       "      <td>3</td>\n",
       "      <td>28.33333333</td>\n",
       "      <td>19.33333333</td>\n",
       "      <td>Dispensaries</td>\n",
       "    </tr>\n",
       "    <tr>\n",
       "      <th>75</th>\n",
       "      <td>75</td>\n",
       "      <td>2</td>\n",
       "      <td>16</td>\n",
       "      <td>31.4375</td>\n",
       "      <td>7.0625</td>\n",
       "      <td>Greenland</td>\n",
       "    </tr>\n",
       "    <tr>\n",
       "      <th>76</th>\n",
       "      <td>76</td>\n",
       "      <td>5</td>\n",
       "      <td>4</td>\n",
       "      <td>30.5</td>\n",
       "      <td>15.5</td>\n",
       "      <td>K-12</td>\n",
       "    </tr>\n",
       "    <tr>\n",
       "      <th>77</th>\n",
       "      <td>77</td>\n",
       "      <td>2</td>\n",
       "      <td>6</td>\n",
       "      <td>31.83333333</td>\n",
       "      <td>16.66666667</td>\n",
       "      <td>Greenland</td>\n",
       "    </tr>\n",
       "    <tr>\n",
       "      <th>78</th>\n",
       "      <td>78</td>\n",
       "      <td>10</td>\n",
       "      <td>8</td>\n",
       "      <td>31.75</td>\n",
       "      <td>18.625</td>\n",
       "      <td>Professional Office (downtown)</td>\n",
       "    </tr>\n",
       "  </tbody>\n",
       "</table>\n",
       "<p>78 rows × 6 columns</p>\n",
       "</div>"
      ],
      "text/plain": [
       "0  TAZ Label Pix_Count   X_Centroid   Y_Centroid  \\\n",
       "1    1     6         9  2.888888889  4.666666667   \n",
       "2    2     2         3            2            4   \n",
       "3    3     3         1            2            7   \n",
       "4    4     1       247  8.497975709  18.15789474   \n",
       "5    5     6         7  2.285714286  21.42857143   \n",
       "..  ..   ...       ...          ...          ...   \n",
       "74  74     8         3  28.33333333  19.33333333   \n",
       "75  75     2        16      31.4375       7.0625   \n",
       "76  76     5         4         30.5         15.5   \n",
       "77  77     2         6  31.83333333  16.66666667   \n",
       "78  78    10         8        31.75       18.625   \n",
       "\n",
       "0                             Var6  \n",
       "1                      Residential  \n",
       "2                        Greenland  \n",
       "3                  Beach (leisure)  \n",
       "4                         Seawater  \n",
       "5                      Residential  \n",
       "..                             ...  \n",
       "74                    Dispensaries  \n",
       "75                       Greenland  \n",
       "76                            K-12  \n",
       "77                       Greenland  \n",
       "78  Professional Office (downtown)  \n",
       "\n",
       "[78 rows x 6 columns]"
      ]
     },
     "execution_count": 33,
     "metadata": {},
     "output_type": "execute_result"
    }
   ],
   "source": [
    "df2=pd.read_csv('problem8_tensorData - problem8_tensorData.csv', sep=',',header=None)\n",
    "header_csv = df2.iloc[0]\n",
    "df2.columns = header_csv\n",
    "df2 = df2.iloc[1:79]\n",
    "df2"
   ]
  },
  {
   "cell_type": "code",
   "execution_count": 41,
   "metadata": {},
   "outputs": [],
   "source": [
    "#conversions\n",
    "lats = pd.to_numeric(df2.iloc[:, 3])\n",
    "lats = pd.Series(lats).to_numpy()-1.5\n",
    "latitudes = 37.90768039 + (lats) * lat_step\n",
    "lons = pd.to_numeric(df2.iloc[:, 4])\n",
    "lons = pd.Series(lons).to_numpy()-1.5\n",
    "longitudes = (lons) * lon_step + -122.5191224"
   ]
  },
  {
   "cell_type": "code",
   "execution_count": 42,
   "metadata": {},
   "outputs": [],
   "source": [
    "df3 = pd.DataFrame(np.array([latitudes,longitudes]).T)"
   ]
  },
  {
   "cell_type": "code",
   "execution_count": 43,
   "metadata": {},
   "outputs": [],
   "source": [
    "taz = pd.Series(np.arange(1,79))"
   ]
  },
  {
   "cell_type": "code",
   "execution_count": 44,
   "metadata": {},
   "outputs": [],
   "source": [
    "df3.insert(0,\"TAZ\", taz)"
   ]
  },
  {
   "cell_type": "code",
   "execution_count": 45,
   "metadata": {},
   "outputs": [
    {
     "data": {
      "text/html": [
       "<div>\n",
       "<style scoped>\n",
       "    .dataframe tbody tr th:only-of-type {\n",
       "        vertical-align: middle;\n",
       "    }\n",
       "\n",
       "    .dataframe tbody tr th {\n",
       "        vertical-align: top;\n",
       "    }\n",
       "\n",
       "    .dataframe thead th {\n",
       "        text-align: right;\n",
       "    }\n",
       "</style>\n",
       "<table border=\"1\" class=\"dataframe\">\n",
       "  <thead>\n",
       "    <tr style=\"text-align: right;\">\n",
       "      <th></th>\n",
       "      <th>TAZ</th>\n",
       "      <th>0</th>\n",
       "      <th>1</th>\n",
       "    </tr>\n",
       "  </thead>\n",
       "  <tbody>\n",
       "    <tr>\n",
       "      <th>0</th>\n",
       "      <td>1</td>\n",
       "      <td>37.897317</td>\n",
       "      <td>-122.495495</td>\n",
       "    </tr>\n",
       "    <tr>\n",
       "      <th>1</th>\n",
       "      <td>2</td>\n",
       "      <td>37.903950</td>\n",
       "      <td>-122.500469</td>\n",
       "    </tr>\n",
       "    <tr>\n",
       "      <th>2</th>\n",
       "      <td>3</td>\n",
       "      <td>37.903950</td>\n",
       "      <td>-122.478085</td>\n",
       "    </tr>\n",
       "    <tr>\n",
       "      <th>3</th>\n",
       "      <td>4</td>\n",
       "      <td>37.855466</td>\n",
       "      <td>-122.394833</td>\n",
       "    </tr>\n",
       "    <tr>\n",
       "      <th>4</th>\n",
       "      <td>5</td>\n",
       "      <td>37.901818</td>\n",
       "      <td>-122.370429</td>\n",
       "    </tr>\n",
       "    <tr>\n",
       "      <th>...</th>\n",
       "      <td>...</td>\n",
       "      <td>...</td>\n",
       "      <td>...</td>\n",
       "    </tr>\n",
       "    <tr>\n",
       "      <th>73</th>\n",
       "      <td>74</td>\n",
       "      <td>37.707468</td>\n",
       "      <td>-122.386062</td>\n",
       "    </tr>\n",
       "    <tr>\n",
       "      <th>74</th>\n",
       "      <td>75</td>\n",
       "      <td>37.684307</td>\n",
       "      <td>-122.477619</td>\n",
       "    </tr>\n",
       "    <tr>\n",
       "      <th>75</th>\n",
       "      <td>76</td>\n",
       "      <td>37.691302</td>\n",
       "      <td>-122.414664</td>\n",
       "    </tr>\n",
       "    <tr>\n",
       "      <th>76</th>\n",
       "      <td>77</td>\n",
       "      <td>37.681354</td>\n",
       "      <td>-122.405959</td>\n",
       "    </tr>\n",
       "    <tr>\n",
       "      <th>77</th>\n",
       "      <td>78</td>\n",
       "      <td>37.681976</td>\n",
       "      <td>-122.391347</td>\n",
       "    </tr>\n",
       "  </tbody>\n",
       "</table>\n",
       "<p>78 rows × 3 columns</p>\n",
       "</div>"
      ],
      "text/plain": [
       "    TAZ          0           1\n",
       "0     1  37.897317 -122.495495\n",
       "1     2  37.903950 -122.500469\n",
       "2     3  37.903950 -122.478085\n",
       "3     4  37.855466 -122.394833\n",
       "4     5  37.901818 -122.370429\n",
       "..  ...        ...         ...\n",
       "73   74  37.707468 -122.386062\n",
       "74   75  37.684307 -122.477619\n",
       "75   76  37.691302 -122.414664\n",
       "76   77  37.681354 -122.405959\n",
       "77   78  37.681976 -122.391347\n",
       "\n",
       "[78 rows x 3 columns]"
      ]
     },
     "execution_count": 45,
     "metadata": {},
     "output_type": "execute_result"
    }
   ],
   "source": [
    "df3"
   ]
  },
  {
   "cell_type": "code",
   "execution_count": 46,
   "metadata": {},
   "outputs": [],
   "source": [
    "df3.to_csv(\"centroids.csv\")"
   ]
  },
  {
   "cell_type": "code",
   "execution_count": null,
   "metadata": {},
   "outputs": [],
   "source": []
  }
 ],
 "metadata": {
  "kernelspec": {
   "display_name": "Python 3",
   "language": "python",
   "name": "python3"
  },
  "language_info": {
   "codemirror_mode": {
    "name": "ipython",
    "version": 3
   },
   "file_extension": ".py",
   "mimetype": "text/x-python",
   "name": "python",
   "nbconvert_exporter": "python",
   "pygments_lexer": "ipython3",
   "version": "3.8.3"
  },
  "toc": {
   "base_numbering": 1,
   "nav_menu": {},
   "number_sections": true,
   "sideBar": true,
   "skip_h1_title": false,
   "title_cell": "Table of Contents",
   "title_sidebar": "Contents",
   "toc_cell": false,
   "toc_position": {},
   "toc_section_display": true,
   "toc_window_display": false
  }
 },
 "nbformat": 4,
 "nbformat_minor": 4
}
