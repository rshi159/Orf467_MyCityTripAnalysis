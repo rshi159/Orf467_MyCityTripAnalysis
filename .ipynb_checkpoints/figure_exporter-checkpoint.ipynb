{
 "cells": [
  {
   "cell_type": "code",
   "execution_count": 1,
   "metadata": {},
   "outputs": [],
   "source": [
    "import numpy as np\n",
    "import pandas as pd\n",
    "from matplotlib import pyplot as plt\n",
    "from datetime import time, timedelta\n",
    "import random\n",
<<<<<<< HEAD
    "from os import listdir\n",
    "from os.path import isfile, join\n",
=======
>>>>>>> 93b4db69117cd9feb20e9ded31c55f3ba18a52e9
    "random.seed(30)"
   ]
  },
  {
   "cell_type": "code",
   "execution_count": 2,
   "metadata": {},
   "outputs": [],
   "source": [
<<<<<<< HEAD
    "df=pd.read_csv('distance_matrix.csv', sep=',',header=None)\n",
    "file_index = 7\n",
    "mypath = \"./production and attraction python code\"\n",
    "# files = [\"row1.csv\",#0\n",
    "# \"row2.csv\",#1\n",
    "# \"row3_employed_homebased_shopping.csv\",#2\n",
    "# \"row3_unemployed_homebased_shopping.csv\",#3\n",
    "# \"row4.csv\",#4\n",
    "# \"row5.csv\",#5\n",
    "# \"row6_homebound_employed_shoppers.csv\",#6\n",
    "# \"row6_homebound_unemployed_shoppers.csv\",#7\n",
    "# \"row7_afterwork_recreate.csv\",#8\n",
    "# \"row7_coming_home_after_recreate.csv\",#9\n",
    "# \"row7_comingfromlunch.csv\",#10\n",
    "# \"row7_goingtolunch.csv\",#11\n",
    "# \"row8_afterschool_extracurricular.csv\",#12\n",
    "# \"row8_goinghome_extracurricular.csv\",#13\n",
    "# \"row9_employed_homebound_shopping.csv\",#14\n",
    "# \"row9_more_shopping_employed.csv\",#15\n",
    "# \"row9_more_shopping_unemployed.csv\",#16\n",
    "# \"row9_unemployed_homebound_shopping.csv\"]#17\n",
    "files = ['home_to_work',#0\n",
    "            'home_to_k12',#1\n",
    "            'home_to_college',#2\n",
    "            'home_to_school',#3\n",
    "            'home_to_SR_unemployed',#4\n",
    "            'home_to_SR_employed',#5\n",
    "            'work_to_home',#6\n",
    "            'school_to_home',#7\n",
    "            'SR_to_home_unemployed',#8\n",
    "            'SR_to_home_employed',#9\n",
    "            'work_to_lunch',#10\n",
    "            'lunch_to_work',#11\n",
    "            'work_to_SR',#12\n",
    "            'work_SR_to_home',#13\n",
    "            'school_to_SR',#14\n",
    "            'school_SR_to_home',#15\n",
    "            'SR_to_SR_unemployed',#16\n",
    "            'SR_to_SR_employed',#17\n",
    "            'SR_SR_to_home_unemployed',#18\n",
    "            'SR_SR_to_home_employed']#19\n",
    "#files = [f for f in listdir(mypath) if isfile(join(mypath, f)) and f[-4:] == \".csv\"]"
=======
    "#get number of trips between a certain amount of time and linear space it to create equally spaced timestamps\n",
    "#start and end are timestamps with form '00:00:00'. Periods is an integer value\n",
    "# def timesteps(start, end, T):\n",
    "#     seconds = duration * 3600\n",
    "#     #time_index = np.linspace(0,seconds, points)\n",
    "#     time_delta = seconds / points\n",
    "#     # time(hour, minute, second, microsecond)\n",
    "#     hour = int(time_delta / 3600)\n",
    "#     minute = int((time_delta - hour*3600)/60)\n",
    "#     second = int((time_delta - hour*3600 - minute*60))\n",
    "#     pd.date_range(start, end, periods=np.sum(T))\n",
    "    "
>>>>>>> 93b4db69117cd9feb20e9ded31c55f3ba18a52e9
   ]
  },
  {
   "cell_type": "code",
   "execution_count": 3,
   "metadata": {},
   "outputs": [],
   "source": [
<<<<<<< HEAD
    "#start = ['06:30:00','06:30:00','18:00:00','10:00:00','16:00:00','15:00:00','11:00:00','19:00:00','16:00:00','17:00:00','12:30:00','11:30:00','15:00:00','17:00:00','10:00:00','20:00:00','20:00:00', '10:00:00']\n",
    "#end = ['08:30:00','08:00:00','21:00:00','14:00:00','18:00:00','16:00:00','15:00:00','22:00:00','17:00:00','18:00:00','13:30:00','12:30:00','16:00:00','18:00:00','20:00:00','23:30:00','23:30:00','20:00:00']\n",
    "start = [\"06:30:00\",\"07:30:00\",\"08:30:00\",\"09:30:00\",\"18:00:00\",\"10:00:00\",\"16:00:00\",\"15:00:00\",\"11:00:00\",\"19:00:00\",\"16:00:00\",\"17:00:00\",\"12:30:00\",\"11:30:00\",\"15:00:00\",\"17:00:00\",\"10:00:00\",\"11:00:00\",\"20:00:00\",\"20:00:00\"]\n",
    "end =   [\"08:30:00\",\"08:30:00\",\"08:00:00\",\"08:00:00\",\"21:00:00\",\"14:00:00\",\"18:00:00\",\"16:00:00\",\"15:00:00\",\"22:00:00\",\"17:00:00\",\"18:00:00\",\"13:30:00\",\"12:30:00\",\"16:00:00\",\"18:00:00\",\"20:00:00\",\"20:00:00\",\"23:30:00\",\"23:30:00\"]\n"
=======
    "df=pd.read_csv('distance_matrix.csv', sep=',',header=None)\n",
    "file_index = 7\n",
    "files = [\"row1.csv\",#0\n",
    "\"row2.csv\",#1\n",
    "\"row3_employed_homebased_shopping.csv\",#2\n",
    "\"row3_unemployed_homebased_shopping.csv\",#3\n",
    "\"row4.csv\",#4\n",
    "\"row5.csv\",#5\n",
    "\"row6_homebound_employed_shoppers.csv\",#6\n",
    "\"row6_homebound_unemployed_shoppers.csv\",#7\n",
    "\"row7_afterwork_recreate.csv\",#8\n",
    "\"row7_coming_home_after_recreate.csv\",#9\n",
    "\"row7_comingfromlunch.csv\",#10\n",
    "\"row7_goingtolunch.csv\",#11\n",
    "\"row8_afterschool_extracurricular.csv\",#12\n",
    "\"row8_goinghome_extracurricular.csv\",#13\n",
    "\"row9_employed_homebound_shopping.csv\",#14\n",
    "\"row9_more_shopping_employed.csv\",#15\n",
    "\"row9_more_shopping_unemployed.csv\",#16\n",
    "\"row9_unemployed_homebound_shopping.csv\"]#17"
>>>>>>> 93b4db69117cd9feb20e9ded31c55f3ba18a52e9
   ]
  },
  {
   "cell_type": "code",
   "execution_count": 4,
   "metadata": {},
<<<<<<< HEAD
=======
   "outputs": [],
   "source": [
    "start = ['06:30:00','06:30:00','18:00:00','10:00:00','16:00:00','15:00:00','11:00:00','19:00:00','16:00:00','17:00:00','12:30:00','11:30:00','15:00:00','17:00:00','10:00:00','20:00:00','20:00:00', '10:00:00']\n",
    "end = ['08:30:00','08:00:00','21:00:00','14:00:00','18:00:00','16:00:00','15:00:00','22:00:00','17:00:00','18:00:00','13:30:00','12:30:00','16:00:00','18:00:00','20:00:00','23:30:00','23:30:00','20:00:00']"
   ]
  },
  {
   "cell_type": "code",
   "execution_count": 5,
   "metadata": {},
>>>>>>> 93b4db69117cd9feb20e9ded31c55f3ba18a52e9
   "outputs": [
    {
     "name": "stdout",
     "output_type": "stream",
     "text": [
<<<<<<< HEAD
      "20\n",
      "20\n",
      "20\n"
=======
      "18\n",
      "18\n",
      "18\n"
>>>>>>> 93b4db69117cd9feb20e9ded31c55f3ba18a52e9
     ]
    }
   ],
   "source": [
    "print(len(files))\n",
    "print(len(start))\n",
    "print(len(end))"
   ]
  },
  {
   "cell_type": "code",
<<<<<<< HEAD
   "execution_count": 5,
=======
   "execution_count": 7,
>>>>>>> 93b4db69117cd9feb20e9ded31c55f3ba18a52e9
   "metadata": {},
   "outputs": [],
   "source": [
    "DM = pd.DataFrame(df).to_numpy()\n",
    "#distance matrix? with diagonals representing the average distance traveled to get to zone center\n",
    "D = DM"
   ]
  },
  {
   "cell_type": "code",
<<<<<<< HEAD
   "execution_count": 6,
   "metadata": {},
   "outputs": [],
=======
   "execution_count": 8,
   "metadata": {},
   "outputs": [
    {
     "name": "stdout",
     "output_type": "stream",
     "text": [
      "[ 2472.00398986     0.             0.             0.\n",
      "  1920.60945232     0.             0.             0.\n",
      "     0.             0.             0.             0.\n",
      "  2469.05410217     0.             0.          2194.99118517\n",
      "     0.             0.             0.             0.\n",
      "     0.             0.             0.             0.\n",
      "  2744.08260181     0.             0.             0.\n",
      "     0.          1646.01821748     0.             0.\n",
      "  1371.43999185     0.             0.             0.\n",
      "     0.          4663.59087952     0.             0.\n",
      "     0.             0.             0.             0.\n",
      "     0.             0.         10703.00089588     0.\n",
      "     0.             0.             0.             0.\n",
      "     0.          1645.58076342     0.             0.\n",
      "     0.             0.             0.             0.\n",
      "     0.             0.             0.          8506.88749059\n",
      "     0.             0.          2470.40438147     0.\n",
      "     0.             0.             0.          8782.33604846\n",
      "     0.             0.             0.             0.\n",
      "     0.             0.        ]\n",
      "[   0.  180.  172.    0.    0.    0. 1084.  563. 1084.  172.    0.  180.\n",
      "    0.    0. 1444.    0.    0. 1084.  172.    0.  344.    0.    0.  301.\n",
      "    0.  722.  282.    0.  172.    0.   60.    0.    0.  722. 1806.  282.\n",
      "  140.    0. 2166.  516.    0.  258.    0.  258.  704.    0.    0. 1203.\n",
      "  516.    0. 8306. 1032.  422.    0.    0. 2236.    0.    0.  688.  301.\n",
      "  361.    0. 1264.    0. 6706. 6139.    0.    0. 1548.  282.    0.    0.\n",
      " 3972.  422.  963.    0.  361.    0.]\n",
      "[[  0.           0.           0.         ...   0.           0.\n",
      "    0.        ]\n",
      " [168.85753907   0.           0.         ...   0.           0.\n",
      "    0.        ]\n",
      " [117.85890747   0.           0.         ...   0.           0.\n",
      "    0.        ]\n",
      " ...\n",
      " [  0.           0.           0.         ...   0.           0.\n",
      "    0.        ]\n",
      " [  2.83888599   0.           0.         ...   0.           0.\n",
      "    0.        ]\n",
      " [  0.           0.           0.         ...   0.           0.\n",
      "    0.        ]]\n"
     ]
    }
   ],
>>>>>>> 93b4db69117cd9feb20e9ded31c55f3ba18a52e9
   "source": [
    "# Gravity model - given A, we want A^* to be used so sum_i T_ij = A_j\n",
    "# A_j is the total trip attraction at zone j\n",
    "#P_i = total trip production at zone i\n",
    "#T_ij is the trips produced at I and attracted to j\n",
    "#F_ij is the calibration term for interchange ij also known as the friction factor or tracel time factor\n",
    "\n",
    "def calculate_T(A, P, D):\n",
    "    # invert and square for disutility\n",
    "    F = np.power(D,-2)\n",
    "    T = np.zeros_like(D)\n",
    "    \n",
    "    for i in range(T.shape[0]):\n",
    "        for j in range(T.shape[1]):\n",
    "            denom = F[i,:] @ A\n",
    "            T[i,j] = P[i]*F[i,j]*A[j]/denom\n",
    "    \n",
    "    return T\n",
    "    \n",
    "def calculate_A_star(A, P, D):\n",
    "    A_old = A.copy()\n",
    "    C = np.ones_like(A)\n",
    "    eps = 1e1\n",
    "    n = A.shape[0]\n",
    "    \n",
    "    while (np.linalg.norm(C-A) > eps):\n",
    "        T = calculate_T(A_old, P, D)\n",
    "        C = T.sum(axis=0).reshape(n,1)\n",
    "        \n",
    "        for j in range(n):\n",
    "            if C[j] != 0:\n",
    "                A_old[j] = A[j]*A_old[j] / C[j]\n",
    "        \n",
    "    return A_old"
   ]
  },
  {
   "cell_type": "code",
<<<<<<< HEAD
   "execution_count": 7,
=======
   "execution_count": 9,
   "metadata": {},
   "outputs": [],
   "source": [
    "\n"
   ]
  },
  {
   "cell_type": "code",
   "execution_count": 10,
   "metadata": {},
   "outputs": [
    {
     "data": {
      "image/png": "iVBORw0KGgoAAAANSUhEUgAAAYIAAAEWCAYAAABrDZDcAAAABHNCSVQICAgIfAhkiAAAAAlwSFlzAAALEgAACxIB0t1+/AAAADh0RVh0U29mdHdhcmUAbWF0cGxvdGxpYiB2ZXJzaW9uMy4yLjIsIGh0dHA6Ly9tYXRwbG90bGliLm9yZy+WH4yJAAAgAElEQVR4nO3deZxcVZn/8c+31yydPSEJSUgCSYAgIBJABCFRQUAUGXEEFRVlGEZwVEZHx58jOi7jMu6iDCKCGzijrMoigzQ7EsKWsIcEspJ960660931/P64t5NK00t1p6uru+r7fr36VVV3ffqkc5+655x7jiICMzMrXWWFDsDMzArLicDMrMQ5EZiZlTgnAjOzEudEYGZW4pwIzMxKnBOBlRxJX5O0XtKre3GML0i6spfi+Yik+7M+10navzeObZYLJwLrE5LeL+nR9CK3WtJtko5P131ZUpOkbenPC5J+Imli1v5zJWXS/Vt/bulBHFOAfwFmR8SEdtbPlbSiq+NExDci4vzunj8XEVETEUs62ybXOM1y4URgeSfpEuAHwDeA8cB+wE+BM7I2+31EDANGA2cCE4AF2ckAWJVeJFt/3tmDcKYCGyJibU9+FwBJFT3d16w/ciKwvJI0AvgP4KKIuD4i6iOiKSJuiYjPtt0+Xfc08D5gHcm3926fU9KvJK2T9IqkL0oqk/Q24E5g3/SO4uo2+w0FbstaXydp3/SO5Q+SfiNpK/CRdNlv0v2mSQpJF0hald7xdBi3pDGSbpa0VdIjwAFt1oekGen70yQ9k94prZT0mU7iPFrSQ5I2pzH8RFJVm+NeKOlFSZskXSZJWev/QdKz6bmekfSGdPm+kv6YludSSf/c3X8T69+cCCzfjgUGATd0Z6eIaAFuAt7cg3P+GBgB7A+cCHwIOC8i/g84ld13Fh9pc876NutrImJVuvoM4A/ASOC3HZx3HjATOBn4fJp42nMZ0ABMBD6a/nTkF8A/pndLrwP+2kmcLcCngbEk5f5W4ONtjnc6cBRwOPD3wNsBJL0X+DJJWQ0H3gVskFQG3AI8CUxKj/kpSW/vJGYbYJwILN/GAOsjorkH+64iqSpqtW/6bbf15+/b7iCpnORu4t8iYltEvAx8Fzi3B+fP9lBE3BgRmYjY0cE2X0nveBYCvwTO6SC+9wBfSrddBFzTyXmbgNmShkfEpoh4rKMNI2JBRDwcEc3p7/3fJIkw2zcjYnNELAPuBl6fLj8f+HZEzI/E4oh4hSRpjIuI/4iInWnbxc+BszuJ2QYYJwLLtw3A2B7Wq08CNmZ9XhURI7N+/qedfcYCVcArWcteSY+1N5Z3c5tXgH3b2WYcUNHOth15D3Aa8IqkeyQd29GGkmZJ+pOkV9MqrG+QlEe27J5S24Ga9P0U4KV2DjuVNgkY+AJJW48VCScCy7eHSKpB3t2dndIqiXcC93XzfOtJvkVPzVq2H7Ayx/07Go43l2F6p7Q556p2tlkHNLezbfsnTb6hnwHsA9wItCa/9uL5GfAcMDMihpNcsNXOdu1ZTpu2iqzlS9sk4GERcVqOx7UBwInA8ioitgBfAi6T9G5JQyRVSjpV0rfbbp+uOxi4lqTn0Pe6eb4Wkovl1yUNkzQVuAT4TY6HWAOMSRu5u+vf09/vEOA84PcdxHc98OV029nAh9s7mKQqSR+QNCIimoCtJO0AHcU5LN2mTtJBwD91I/Yrgc9IOlKJGWnZPQJslfQ5SYMllUt6naSjunFs6+ecCCzvIuJ7JBfjL5J8I14OXEzyDbfV+yTVAZuBm0mqlI7Maqztjk8A9cAS4H7gd8BVOcb6HEkSWpJWhbRXvdORe4DFwF3Af0XEXzrY7mKSKplXgatJ2hM6ci7wclrVcyHwwU7i/AzwfmAbST3+axJRRyLif4Gvk5TVNpJ/m9Fp4nonSVvCUpI7ritJGuOtSMgT05jtHUnTSC6SlT1sFDcrKN8RmJmVOCcCM7MS56ohM7MS5zsCM7MSN+AGzxo7dmxMmzatW/vU19czdOjQ/AQ0gLgcdnNZJFwOiVIohwULFqyPiHHtrRtwiWDatGk8+uij3dqntraWuXPn5iegAcTlsJvLIuFySJRCOUjq8Al2Vw2ZmZU4JwIzsxLnRGBmVuKcCMzMSpwTgZlZictbIpB0laS1khZ1sF6SfiRpsaSnWqfFMzOzvpXPO4KrgVM6WX8qybR+M4ELSMZSNzOzPpa35wgi4t50VMaOnAH8KpIxLh6WNFLSxIhYna+YzKx0RQQR0BJBJoJMhuQ1gvqmYFP9TlZu3sGTKzYTkc78E0Emkn0z6bLW4wTJayb7fSbZLhNBPobvmTNtNCfMaveZsL1SyAfKJrHndH0r0mWvSQSSLiC5a2D8+PHU1tZ260R1dXXd3qcYuRx2c1kk+kM5RASr6oO6ncHWncGWxuRi2hKwbnuGyrLkfeuy3a9BU4b0wsuuC3DrNsu3ZRheJSR4tT6Hi/Jdd/b675br9HC5Om16JZlVVb181MImgvbKqN1/rYi4ArgCYM6cOdHdJwBL4anBXLgcdnNZJPq6HLZsb+Lu59fy7Oqt/Omp1WzZ0URdY9dTOIwYXElFmSgvU/JaLsolKsvLkmXlorysjKp0m3KJ8WPFum2NzNgnmZZ5fV0jb9x/DOUSZWWiTKJMUF4mXnrpJQ6cOYOyMjFh+CBeP2UkCMokRPoqEEJlycVL6f4iWQfJsVqPK/V2GsifQiaCFew5b+tk2p/j1cwGoMbmFpaur+fDVz1CXUMzO1syNLXs/q43bcwQ3jtnMlUVZYwZWsXsiSOoKBfTxw6luiK5wFeWlzGosjzvsda2LGPucdPzfp7+qpCJ4GbgYknXAccAW9w+YDZwRARbdzSzcOUWvnX7c1RVlNHY3MLqzQ1sqN+5x7ZvPWgfZk0YRnVFGWNqqnnX4fsyYnBlgSK3tvKWCCRdC8wFxkpaAVwKVAJExOXArcBpJHO8bieZ7NvMCiSTCep3NnP/i+vZ0dTCtoZm1m1rZGdLhk31O9ne1MKilVsYXFnOqs07qGtsJpNVmVtVUcbxM8YyZdQQ1tc1MrS6ghNmjmPiiEGceujEwv1i1qV89ho6p4v1AVyUr/Oblbp12xpZvmk7zS3BzuYM9TuTC3tjc4ZtDU2s3dbIulcbuWPjU6zb1shdz62lvY4ugyrLGDG4kprqCmqqK9hUv5PTD9+XMUOrGDG4kimjh3DY5BFMHDG4739J6xUDbhhqM+vY/Jc3Mv/ljXz79udz3mefjWsZPriS4w4Yy5xpoxhbU81xM8ZSVVHG+GHVVJR7AIJi50RgNsA0tWR4cU0dD760nsbmDPe+sI7VWxrYtH0n2xp298AZVl3B5087iKmjh1JVUUZVRRlja6oYNqiS6ooyqsrLuPfee9x7ypwIzPqz517dSu3z67jyvqXUNyY9b1oy7feJnzN1FKOHVvGpt83i4InDBlT3RSssJwKzfmTl5h3csehVlm3czvKN27nrubW71k0aOZjTD5vIkKoKJo4cxP5jh3Lo5BGUS66+sb3iRGBWQFt2NLF1RxMb6neycOUW/v3G3WM0DqpM+td/7pSDOGn2eEYN7f0nSs3AicCsz6zavIOVm3dw17NrWb5pO69uaeCxZZte01Pn4InD+c3HjmZMTXVhArWS40RglicvrtnGkvX1/ObhV7h/8frXXPBnTxzOWw/ah5Nmj2f4oEoOnTyCIVUVjBhcSXmZ6/et7zgRmPWC5pYMm3c0sWZrA39bspH/XbCCZ1dv3WObT7xlBgeMq+F1k0YwZfRgqivyP3SCWS6cCMy6acWm7fxhwQoWvLKJhSu3UFFWxvq6xtds97aD9+Edh01k1vhhTBk9hOGDPKSC9U9OBGY5ighqn1/HeVfP37XsoAnDGDesmtdPmcLIIVVMGD6ImkEVTBk1mP3H1RQwWrPcORGYdSAi+MINC7nx8WRQ3Ow+/L887yjeMGUUI4b4W74NfE4EZiQX/RfW1LFmawP3vrCO5kzwwOL1vLi2Dkge1jpiv5GMqanmwAnDmHfgPgWO2Kz3OBGYAf92/UKum797wrwywYEThvOZk2dx9tH7MdZdOa2IORFYyWtuyXD94ysB+PmH5jC2pooj9htV4KjM+o4TgZWUhqYWfvnAyyxdspNFmRfZvL2JB17awM7mDP/13sM5afb4Qodo1uecCKzo3fD4Cq68bynNLcHza7btXvHCC1RVlDFtzBCOnzGWN88cW7ggzQrIicCK0qb6nbzn8gdZsWkHO5szAIwbVs0H37gf42oGcRArmDf3RCrKkonMzUqZE4EVlUwm+O6dz3PZ3S8BcNjkEbz9kAmce+zUPR7oqq1dSVWFR+w0AycCG+Aamlr4zh3P8/CSDQytruCRpRt3rbvkpFlcPG+Gv/GbdcGJwAasHTtbOPuKh3hyxRYApowezImzxiHBj845wkM6mOXIicAGlEwmuH/xelZv2cFX//QsdY3NTBo5mL98+gSGVvvP2awn/D/HBoxMJvjEdY/z56dW71o2qLKM+/51nqt/zPaCE4H1ey+u2cbP7nmJJ5ZvZsm6egD++E/HMn1sDaM9a5fZXnMisH5r8/adfPTq+Ty2bDMAh08ZyTsOm8g3zjyUEYNd/2/WW5wIrF94Yvlm/vrcWsoEjy3bzL0vrNu1ToKfnzuHt/mpX7O8cCKwgrr/xfWc/6v5NDRldi0bOaSSdx6+L9UVZRw5dRRnHzUFyW0AZvniRGB9bun6em55chWPvrJp1zf/s46czFlHTuaoaaM9X69ZH3MisD73/p8/zOotDVSnT/Z+9u0HctG8GQWOyqx0ORFYn1u9pYGTZo/n5x+aU+hQzAzwYCvWp9ZuawBg6ughBY7EzFo5EVif+vm9SwA49oAxBY7EzFrlNRFIOkXS85IWS/p8O+tHSLpF0pOSnpZ0Xj7jsb4XEdQ1NrNsw3YeXrKBXz/8CoDn/DXrR/LWRiCpHLgMOAlYAcyXdHNEPJO12UXAMxHxTknjgOcl/TYiduYrLsu/Z1Zt5fxr5rN6awMRr10/98BxHhLCrB/JZ2Px0cDiiFgCIOk64AwgOxEEMExJJ/EaYCPQnMeYLI/qGpv56NXzdw0FfeikEcw7cBzVleXsM6yaQZXljBlaxdHTRxc4UjPLpmjvK1t7G0pDI6I+5wNLZwGnRMT56edzgWMi4uKsbYYBNwMHAcOA90XEn9s51gXABQDjx48/8rrrrss1DADq6uqoqanp1j7FKN/lcMOLO7nppSamDi/jtOmVHD2hvN8+COa/iYTLIVEK5TBv3rwFEdFuV70u7wgkvQm4kuQb+36SDgf+MSI+3tWu7Sxrm3XeDjwBvAU4ALhT0n0RsXWPnSKuAK4AmDNnTsydO7ersPdQW1tLd/cpRvksh78t2cBNtz8MwC2XvK3fzwXgv4mEyyFR6uWQS2Px90ku2BsAIuJJ4IQc9lsBTMn6PBlY1Wab84DrI7EYWEpyd2ADzDOrk9z976fP7vdJwMz2lFOvoYhY3mZRSw67zQdmSpouqQo4m6QaKNsy4K0AksYDBwJLconJ+pemlmSsoLOPmtLFlmbW3+TSWLw8rR6K9IL+z8CzXe0UEc2SLgbuAMqBqyLiaUkXpusvB74KXC1pIUlV0uciYn0PfxfrI80tGZ5YvpllG7ezZmsjf3pqFU+vSu4IKsv9aIrZQJNLIrgQ+CEwiaS65y8k3T67FBG3Are2WXZ51vtVwMm5BmuFt+CVTXz8twtYs7Vxj+UHTxzOnKmjqKpwIjAbaLpMBOk39A/0QSzWjy1dX89ti1bz7dufB+DbZx3G5FGDmTJqCDXVFYzyTGFmA1YuvYauAT4ZEZvTz6OA70bER/MdnBVefWMzX7hhIbctepWdzUk7wDlH78ffz3FbgFmxyKVq6LDWJAAQEZskHZHHmKwf+cszr3LTE0lnr/8+90iOnzGWodUetNasmOTyP7pM0qiI2AQgaXSO+1kRaGpJHv2471/nMcUjhpoVpVwu6N8FHpT0h/Tze4Gv5y8k64/66QPCZtYLcmks/pWkBcA8ki6ef9dm4DgzMxvAcq3ieQ7Y1Lq9pP0iYlneorJ+4WNXz+eu59YCUFHmbqFmxSqXXkOfAC4F1pA8USySMYMOy29o1lcymeDSm5+mrrGZTAQRsGzjdp5YnvQROOWQCUwYMajAUZpZvuRyR/BJ4MCI2JDvYKww/t+NC7n2kWQUkaljhlAmIcEb9hvJt886nBn7FPeojGalLqchJoAt+Q7ECmN9XSPXPrKcA8YN5Y5PnUCFh4gwKzm5JIIlQK2kPwO7xhWIiO/lLSrrE7cvWs2V9y0F4KJ5M5wEzEpULolgWfpTlf7YALZsw3YWLNvIrQtf5c5n1uxaftQ0zxpmVqpy6T76lb4IxPJr8dptfONvO3jh9rt3LZs4YhC3fOJ4Rg+p8hzCZiUsl15D44B/BQ4BdnUdiYi35DEu20s7mzN8/LeP8eLabbyyYfse63549ut50wFjGT20inInALOSl0vV0G+B3wOnkwxJ/WFgXT6Dsr3T1JLhrd+rZfnGHQBMHjWYY6aP4aDK9XzsjLf427+Z7SGXRDAmIn4h6ZMRcQ9wj6R78h2YdV9dYzOb6nfypZsWsXzjDirKxIOffwv7DE9u5Gpra50EzOw1ckkETenraknvIJl3eHL+QrKe2LKjiWO+8X80NCVDRR8+eQQ3XnQc8iBBZtaFXBLB1ySNAP4F+DEwHPhUXqOybtvW0ERDU4ajp4/mg2+cypypo5wEzCwnuSSCTRGxheShsnkAko7La1TWY2cdOZl3Hb5vocMwswEklyeIfpzjMjMzG4A6vCOQdCzwJmCcpEuyVg0HyvMdmJmZ9Y3OqoaqgJp0m2FZy7cCZ+UzKDMz6zsdJoKsrqJXR8QrAJLKgJqI2NpXAZqZWX7l0kbwn5KGSxoKPAM8L+mzeY7Luqm+saXQIZjZAJVLIpid3gG8G7gV2A84N69RWbc98vJGAIZUufnGzLonl0RQKamSJBHcFBFNJDOUWT/S1Jw8SHb8jLEFjsTMBppcEsF/Ay8DQ4F7JU0laTC2fmRHU1I1NNh3BGbWTbkMQ/0j4EdZi16RNC9/IVlPrNycDDBX5cllzKybOnuO4IMR8Zs2zxBk8wxlBbahrpHlm3bwiWsfY/nGHdRUV3hYCTPrts7uCIamr8M62cYKZPWWHZzw7btpatndXPOLD88pYERmNlB19hzBf6evPZ6hTNIpwA9JnkS+MiK+2c42c4EfAJXA+og4safnKxUNTS0c+59/BeCco/fj5NnjOfaAMQyqdPuAmXVfp20EaVvAxcBB6aJngZ9ERG1XB5ZUDlwGnASsAOZLujkinsnaZiTwU+CUiFgmaZ8e/RYlZvP2ZGTwWeNr+OI7DmZodS5jB5qZta/DlsV07oGrgD8B7wc+QPIcwVWSTsvh2EcDiyNiSUTsBK4DzmizzfuB6yNiGUBErO3+r1B6mlqSrqLnv3l/JwEz22udXUU+C7w7Ip7MWvaEpEdJRh+9tYtjTwKWZ31eARzTZptZJM8p1JK0RfwwIn7V9kCSLgAuABg/fjy1tbVdnHpPdXV13d6nP3u1PkkEi194ntq6l3Ler9jKYW+4LBIuh0Spl0NniWBCmyQAQEQ8JWl8Dsdur/tK2wfRKoAjgbcCg4GHJD0cES+0OecVwBUAc+bMiblz5+Zw+t1qa2vp7j792YtrtsF993LoIbOZ2425B4qtHPaGyyLhckiUejl0lgjqe7iu1QpgStbnySTTXLbdZn1E1AP1ku4FDgdewDrU2lOostxdRc1s73WWCA6QdHM7ywXsn8Ox5wMzJU0HVgJnk7QJZLsJ+ImkCpJhr48Bvp/DsUtacyapGqoo88NjZrb3OksEbRt2s/1XVweOiGZJFwN3kHQfvSoinpZ0Ybr+8oh4VtLtwFNAhqSL6aLcwy9NG+p3AlDhOwIz6wVdzUewVyLiVto0KkfE5W0+fwf4zt6eq5S8uqUBwE8Rm1mvcN3CALOhrpFv3PosANPGDClwNGZWDJwIBpjHl21mW0MzH597AFPHDO16BzOzLjgRDDCZSHoMnXboxAJHYmbFotNEIGmUpK+1WXaOpDflNyzrSCZ9EqPM7QNm1ks6TQQRsQk4SdKMrMVfwv38C6b1jsA9R82st+RyOfkF8FHYNVLo0xGxPp9BWcdaE0G57wjMrJfkkgiuBd6jpK/iR4Ar8xqRdWrhyi0AOA+YWW/pMhFExDbgQeB9JE/+3pHvoKxjrW0D+412jyEz6x25jmF8JXALyVwEbQeOsz5093PJSN1VFW4kMLPekdPVJCIeAH6Nq4UKrnUuAjOz3pLzrCYR8cl8BmK5KZM47dAJhQ7DzIqI6xfMzEqcE4GZWYlzIjAzK3EdthFI+rvOdoyI63s/HDMz62udNRa/M33dB3gT8Nf08zygFnAiKIBVm3cwc3xNocMwsyLS2cQ05wFI+hMwOyJWp58nApf1TXjWVv3OFtZtayx0GGZWRHJpI5jWmgRSa4BZeYrHOrEoHV5izrTRBY7EzIpJLs8R1Eq6g2TMoSCZhP7uvEZlr7GzOcPpP74fgP1Ge2YyM+s9XSaCiLhY0pnACemiKyLihvyGZW1ta2gC4JRDJnD2UVMKHI2ZFZOcnixOL/y++BdQ6wBPb5oxxpPWm1mv8nMEA0TrUH9OAmbW25wIBojWQV+dBsyst3WZCCSdLskJo8Baq4Y8V7GZ9bZcLvBnAy9K+rakg/MdkLWvdYpK5wEz6225zFD2QeAI4CXgl5IeknSBpGF5j8522dVGUNgwzKwI5dpraKukPwKDgU8BZwKflfSjiPhxPgMsRQ1NLWzZ0cTO5gy3L3qV2xatZvvOFsB3BGbW+7pMBJLeBZwHHEAyS9nREbFW0hDgWcCJoJc8u3orX//zs/xt6QaaWl47I+jJs8fzxv3HFCAyMytmudwRnAV8PyLuzV4YEdslfTQ/YZWeRSu37HpyeNLIwZz/5unUVFcQwHEzxrLviEHuOmpmeZFLIljdNglI+lZEfC4i7spTXCXn/55dA8BnTp7FxW+ZWeBozKyU5NJr6KR2lp3a24GUukxaE+QkYGZ9rcNEIOmfJC0EDpL0VNbPUuCpXA4u6RRJz0taLOnznWx3lKQWSWd1/1coDhFBmWt+zKwAOqsa+h1wG/CfQPZFfFtEbOzqwJLKSeYtOAlYAcyXdHNEPNPOdt8C7uhm7EUlE+E2ADMriM6qhiIiXgYuArZl/SAplwHxjwYWR8SSiNgJXAec0c52nwD+CKztRtxFJwLfEZhZQXR1R3A6sIBkhIPsy1QA+3dx7EnA8qzPK4BjsjeQNInkmYS3AEd1dCBJFwAXAIwfP57a2touTr2nurq6bu/T115+ZScRkdc4B0I59BWXRcLlkCj1cuhsqsrT09fpPTx2e99v23aO/wHwuYho6axaJCKuAK4AmDNnTsydO7dbgdTW1tLdffraQ9ufpXz5y3mNcyCUQ19xWSRcDolSL4cOE4GkN3S2Y0Q81sWxVwDZM6hMBla12WYOcF2aBMYCp0lqjogbuzh20Qk8oJyZFUZnVUPf7WRdkFTndGY+MFPSdGAlyeB179/jIFl3G5KuBv5UikkAIJNxryEzK4zOqobm7c2BI6JZ0sUkvYHKgasi4mlJF6brL9+b4xebTPiOwMwKo7OqobdExF8l/V176yPi+q4OHhG3Are2WdZuAoiIj3R1vGKWifDQomZWEJ1VDZ0I/BV4ZzvrAugyEVj3+I7AzAqhs6qhS9PX8/ounNKV8ZPFZlYguUxVOUbSjyQ9JmmBpB9K8ljIvey2Ra/6yWIzK4hcBp27DlgHvIdkSOp1wO/zGVSp2drQxLptjYwYXFnoUMysBOUyDPXoiPhq1uevSXp3vgIqRQ3p7GMfO76nz+6ZmfVcLncEd0s6W1JZ+vP3wJ/zHVgpuW3RqwAMriwvcCRmVoo66z66jd1jDF0C/CZdVQbUAZfmPboSsGVHE5fe/DQAJ8waV+BozKwUddZraFhfBlKqFq+tA+CI/UYyblh1gaMxs1KUSxsBkkYBM4FBrcvaTl9pPbO1oQmAS06aVeBIzKxUdZkIJJ0PfJJk0LgngDcCD9H1WEPWhUUrt3DeL+cDUFmeS3ONmVnvy+Xq80mSuQJeSccfOoKkC6ntpff87EEATjt0AkdNy2WuHzOz3pdLImiIiAYASdUR8RxwYH7DKn5fueVpGpszvHnmWH76gSMp92PFZlYgubQRrJA0ErgRuFPSJl47r4B1Q0NTC7984GUAvvKuQwobjJmVvC4TQUScmb79sqS7gRHA7XmNqsgtXV8PwD+/dSb7j6spcDRmVupy7TX0BuB4kucKHkgno7ceaGhq4eO/TSZ3e/2UEQWOxswst0HnvgRcA4whmU7yl5K+mO/AitU9L6xj6fp6qivKOHI/NxCbWeHlckdwDnBEVoPxN4HHgK/lM7BitbE+uZm6+zNzGTHEg8yZWeHl0mvoZbIeJAOqgZfyEk0J2LojeYDMI42aWX/R2VhDPyZpE2gEnpZ0Z/r5JOD+vgmv+DyzeivDqisYUuUB5sysf+isaujR9HUBcEPW8tq8RVPkVm/ZwU1PrGLGPjWehMbM+o3OBp27pvW9pCqgdTCc5yOiKd+BFaMf3PkiAMfPGFvgSMzMdstlrKG5JL2GXiYZknqKpA970Lnua70JuPSdswsbiJlZllx6DX0XODkingeQNAu4Fjgyn4EVq/HDq10tZGb9Si69hipbkwBARLwAuMuLmVmRyOWOYIGkXwC/Tj9/gKQB2czMikAuieBC4CLgn0naCO4FfprPoMzMrO90mggklQELIuJ1wPf6JqTiFBHc88I6WjKFjsTMbE+dthFERAZ4UtJ+fRRP0Xp5w3ZWb2mgvrG50KGYme0hl6qhiSRPFj8C1LcujIh35S2qItTY3ALA1898XYEjMTPbUy6J4Ct5j6KEDK700BJm1r90WDUkaZCkTwHvBQ4imYfgntafXA4u6RRJz0taLOnz7az/gKSn0p8HJR3e49+kn4sodARmZu3rrI3gGmAOsBA4leTBspxJKgcuS/edDZwjqe0jtUuBEyPiMOvhdYMAAAxjSURBVOCrwBXdOcdA5GfJzKy/6axqaHZEHAqQPkfwSDePfTSwOCKWpMe4DjgDeKZ1g4h4MGv7h4HJ3TzHgLB6yw5+/fArhQ7DzKxdnSWCXQPLRURzD4ZFmAQsz/q8Ajimk+0/BtzW3gpJFwAXAIwfP57a2tpuBVJXV9ftfXrTTx5v4NE1SWPx8hefoXb9813skR+FLof+xGWRcDkkSr0cOksEh0vamr4XMDj9LCAiYngXx24vc7RbUy5pHkkiOL699RFxBWm10Zw5c2Lu3LldnHpPtbW1dHefvRUR3PfietZsbeDRNU8xbFAFd11yIvsMH9T1znlSiHLor1wWCZdDotTLobNhqPe2e8sKYErW58nAqrYbSToMuBI4NSI27OU5+40X1tTxoat216b93RGTCpoEzMw6kkv30Z6aD8yUNB1YCZwNvD97g/RBteuBc9PB7IrGlfctAZIhp08/bF/G1lQVOCIzs/blLRGk7QoXA3cA5cBVEfG0pAvT9ZcDXwLGAD9N2yCaI2JOvmLqS6OGJhf+846bXuBIzMw6l887AiLiVuDWNssuz3p/PnB+PmMolOaWoKY6r8VrZtYrcpmPwHqgJZOhvMwPDZhZ/+dEkAcPvrSeax7ycwNmNjC47qIXbW1o4sHFG7jkf54A4JjpowsckZlZ15wIetHltS/x09qXAPj8qQdx4YkHFDgiM7OuORH0ktYHyMYPr+baf3gj+4+rKXRIZmY5cRtBL/nCDQtZuHILQ6srnATMbEBxIugF97+4nmsfSYZVuurDRxU4GjOz7nHV0F54bNkmPvG7x1m5eQcA337PYUwbO7TAUZmZdY8TwV54bvU2Vm7ewVlHTua9R07mmP3HFDokM7NucyLoBZ99+4GM94ByZjZAuY3AzKzEORGYmZU4JwIzsxLnRNBDNzy+gu/dWZgpJ83MepMTQQ/99bl1NDZl+Ic3T2efYdWFDsfMrMfca6iH1m9r5MAJw/h/75hd6FDMzPaK7wh6YPvOZh5asoGxNb4TMLOBz4mgm5aur+cNX70TgMmjBhc4GjOzvedE0E2PL9tEQ1OGeQeO45KTZxU6HDOzveZE0E0RyeuX33UIQ6rcxGJmA58TQQ8Jz0dsZsXBiaCbotABmJn1MieCHpJvCMysSDgRdMOSdXV85n+fLHQYZma9yomgG35014sATBg+iEkj3XXUzIqDu710Q1MmmDhiEA/921sLHYqZWa/xHUGOmlsyNLdkGFJVXuhQzMx6le8IcnTyD+5lybp6DpowrNChmJn1KieCHC1ZV8+x+4/x08RmVnRcNZSDz/3hKQCOmj6ao6aNLnA0Zma9y3cEnchkggdf2sBdz60B4GPHTS9wRGZmvS+viUDSKcAPgXLgyoj4Zpv1StefBmwHPhIRj+Uzpq5EBGf+9EGWrKtja0PzruUfOnYqI4ZUFjAyM7P8yFsikFQOXAacBKwA5ku6OSKeydrsVGBm+nMM8LP0tc9EBHc8/SqL19YB0JwJnli+mTlTR/G6SSOYPGowxx4whhn71PRlWGZmfSafdwRHA4sjYgmApOuAM4DsRHAG8KuICOBhSSMlTYyI1b0dzD0vrONrf3rmNcsbmzMs27h9j2VlggtO2J+TD5nQ22GYmfU7+UwEk4DlWZ9X8Npv++1tMwnYIxFIugC4AGD8+PHU1tZ2K5C6ujpeffopRqjptSsr4YSDqzhxSsWu8UQFlK97jtra57p1nv6urq6u22VXrFwWCZdDotTLIZ+JoL1h2doO3pnLNkTEFcAVAHPmzIm5c+d2K5Da2lrOnzuX87u1V/Gpra2lu2VXrFwWCZdDotTLIZ/dR1cAU7I+TwZW9WAbMzPLo3wmgvnATEnTJVUBZwM3t9nmZuBDSrwR2JKP9gEzM+tY3qqGIqJZ0sXAHSTdR6+KiKclXZiuvxy4laTr6GKS7qPn5SseMzNrX16fI4iIW0ku9tnLLs96H8BF+YzBzMw65yEmzMxKnBOBmVmJcyIwMytxTgRmZiVOSXvtwCFpHfBKN3cbC6zPQzgDjcthN5dFwuWQKIVymBoR49pbMeASQU9IejQi5hQ6jkJzOezmski4HBKlXg6uGjIzK3FOBGZmJa5UEsEVhQ6gn3A57OaySLgcEiVdDiXRRmBmZh0rlTsCMzPrgBOBmVmJK+pEIOkUSc9LWizp84WOp5AkvSxpoaQnJD1a6Hj6iqSrJK2VtChr2WhJd0p6MX0dVcgY+0oHZfFlSSvTv4snJJ1WyBjzTdIUSXdLelbS05I+mS4vyb+JVkWbCCSVA5cBpwKzgXMkzS5sVAU3LyJeX2L9pa8GTmmz7PPAXRExE7gr/VwKrua1ZQHw/fTv4vXpiMHFrBn4l4g4GHgjcFF6XSjVvwmgiBMBcDSwOCKWRMRO4DrgjALHZH0sIu4FNrZZfAZwTfr+GuDdfRpUgXRQFiUlIlZHxGPp+23AsyTzpJfk30SrYk4Ek4DlWZ9XpMtKVQB/kbRA0gWFDqbAxrfOhJe+7lPgeArtYklPpVVHJVMlImkacATwN0r8b6KYE4HaWVbKfWWPi4g3kFSVXSTphEIHZP3Cz4ADgNcDq4HvFjacviGpBvgj8KmI2FroeAqtmBPBCmBK1ufJwKoCxVJwEbEqfV0L3EBSdVaq1kiaCJC+ri1wPAUTEWsioiUiMsDPKYG/C0mVJEngtxFxfbq4pP8mijkRzAdmSpouqQo4G7i5wDEVhKShkoa1vgdOBhZ1vldRuxn4cPr+w8BNBYyloFovfqkzKfK/C0kCfgE8GxHfy1pV0n8TRf1kcdoV7gdAOXBVRHy9wCEVhKT9Se4CIJmn+nelUhaSrgXmkgwzvAa4FLgR+B9gP2AZ8N6IKPpG1A7KYi5JtVAALwP/2FpXXowkHQ/cBywEMuniL5C0E5Tc30Srok4EZmbWtWKuGjIzsxw4EZiZlTgnAjOzEudEYGZW4pwIzMxKnBOBDTiSWtKRMp+W9KSkSySVpevmSPpRJ/tOk/T+vos26asv6U/d3Oc/JL0tfV8rqdsDBUq6WNJ53d3PSo+7j9qAI6kuImrS9/sAvwMeiIhLc9h3LvCZiDg9v1Hucc7vAPdHRI8eUpJUSxJzt4YPlzSEpFyO6Ml5rXT4jsAGtHTIjAtIBk6TpLmt374lnZg1zv7j6dPV3wTenC77dHqHcJ+kx9KfN6X7zk2/if9B0nOSfps+lYqkoyQ9mN6NPCJpmKRySd+RND8dwO0fs8J8D3B7uu9HJN0o6RZJS9Nv7Zek8T0saXS63dWSzmr7+0o6WdJDaaz/m46Zg6RvSnomPfd/pWWzHXhZUtEPG2F7p6LQAZjtrYhYklYNtR0x8jPARRHxQHrBbCAZZ37XHUH6rfmkiGiQNBO4FmithjkCOIRkjKoHgOMkPQL8HnhfRMyXNBzYAXwM2BIRR0mqBh6Q9Jf0OJsiojErrtelxx4ELAY+FxFHSPo+8CGSp+FfQ9JY4IvA2yKiXtLngEsk/YRkeIiDIiIkjcza7VHgzcAjuZWmlSInAisW7Y02+wDwPUm/Ba6PiBXpl/pslcBPJL0eaAFmZa17JCJWAEh6ApgGbAFWR8R8gNaRKyWdDByW9S1+BDATqAPWtTnn3elY+NskbQFuSZcvBA7r5Hd8I8kkSw+kv0cV8BCwlSTJXSnpz0B2e8Ra4KBOjmnmRGADXzqWUgvJRe/g1uUR8c30wnga8HBr42sbnyYZd+dwkqrShqx12d/iW0j+v4j2hzMX8ImIuKNNbK3f/LNlHzeT9TlD5/8nBdwZEee8ZkVS/fNWksEVLwbekq4aRHLHYtYhtxHYgCZpHHA58JNo0/NB0gERsTAivkVSRXIQsA0YlrXZCJJv+BngXJIBCjvzHLCvpKPScwyTVAHcAfyTkiGOkTQrHen1BZI7id7wMEn11Iz0HEPS89QAI9JpJj9FMohcq1kU+Yiitvd8R2AD0eC0qqaSZA7aXwPfa2e7T0maR/Jt/hngNpJv3c2SniSZw/enwB8lvRe4G6jv7MQRsVPS+4AfSxpM8m37bcCVJBf8x9JG5XXAuyNii6SXJM2IiMV780tHxDpJHwGuTdshIGkz2AbcJGkQyV3Dp7N2Ow74yt6c14qfu4+a5ZmkM4EjI+KLfXzeI4BLIuLcvjyvDTy+IzDLs4i4QdKYApx6LPDvBTivDTC+IzAzK3FuLDYzK3FOBGZmJc6JwMysxDkRmJmVOCcCM7MS9/8BNrofCWL+DfgAAAAASUVORK5CYII=\n",
      "text/plain": [
       "<Figure size 432x288 with 1 Axes>"
      ]
     },
     "metadata": {
      "needs_background": "light"
     },
     "output_type": "display_data"
    }
   ],
   "source": []
  },
  {
   "cell_type": "code",
   "execution_count": 11,
   "metadata": {},
   "outputs": [
    {
     "data": {
      "image/png": "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\n",
      "text/plain": [
       "<Figure size 432x288 with 1 Axes>"
      ]
     },
     "metadata": {
      "needs_background": "light"
     },
     "output_type": "display_data"
    }
   ],
   "source": []
  },
  {
   "cell_type": "code",
   "execution_count": null,
>>>>>>> 93b4db69117cd9feb20e9ded31c55f3ba18a52e9
   "metadata": {},
   "outputs": [],
   "source": [
    "def generate_figure(D, file_index):\n",
<<<<<<< HEAD
    "    df1 = pd.read_csv(mypath + \"/\" + files[file_index] + \".csv\", sep=',',header=None).fillna(0)\n",
=======
    "    df1 = pd.read_csv('csv/' + files[file_index], sep=',',header=None).fillna(0)\n",
>>>>>>> 93b4db69117cd9feb20e9ded31c55f3ba18a52e9
    "    header = df1.iloc[0]\n",
    "    df1 = df1.iloc[1:79]\n",
    "    df1.columns = header\n",
    "    #df1 = df1.drop(labels = ['iii', 'TAZ (8a)', 'iv'],axis = 1)\n",
    "    vec = df1\n",
    "    #convert entire dataframe from strings to int64 types. Select P and A arrays by column.\n",
    "    vec = vec.apply(pd.to_numeric)\n",
    "    trip_arr = vec.to_numpy()\n",
    "    P = trip_arr[:,1]\n",
    "    A = trip_arr[:,2]\n",
    "    dims = A.shape[0]\n",
    "    A = A.reshape(dims, 1)\n",
    "    P = P.reshape(dims, 1)\n",
    "    A_star = calculate_A_star(A, P, D)\n",
    "    T = calculate_T(A_star, P, D)\n",
    "    #cumulative dist\n",
    "    N = np.unravel_index(np.argsort(D.ravel()), np.shape(D))\n",
    "\n",
    "    y = np.zeros(np.size(T))\n",
    "    y_dens = np.zeros(np.size(T))\n",
    "    x = np.zeros(np.size(T))\n",
    "    for i in range(np.size(T)):\n",
    "        if i == 0:\n",
    "            y[i] = T[N[0][i], N[1][i]]\n",
    "        else:\n",
    "            y[i] = y[i-1] + T[N[0][i], N[1][i]]\n",
    "            y_dens[i] = T[N[0][i], N[1][i]]\n",
    "        x[i] = D[N[0][i], N[1][i]]\n",
    "    \n",
    "    #plots\n",
    "    output_name = files[file_index][:-4]\n",
    "    normalize = True\n",
<<<<<<< HEAD
    "    plt.figure()\n",
=======
>>>>>>> 93b4db69117cd9feb20e9ded31c55f3ba18a52e9
    "    if normalize:\n",
    "        plt.plot(x,y/max(y))\n",
    "    else:\n",
    "        plt.plot(x,y)\n",
    "    plt.xlabel('Distance(miles)')\n",
    "    plt.ylabel('Probability d < Distance')\n",
<<<<<<< HEAD
    "    plt.title(\"CDF of trip distance for \" + output_name)\n",
    "    plt.grid()\n",
    "    plt.savefig(\"plots/\" + output_name + \"_cumdist.png\")\n",
    "    plt.clf()\n",
    "    plt.close()\n",
    "    \n",
    "    plt.figure()\n",
=======
    "    plt.title(\"CDF of trip distance\")\n",
    "    plt.grid()\n",
    "    plt.savefig(\"/plots/\" + output_name + \"_cumdist.png\")\n",
    "    \n",
>>>>>>> 93b4db69117cd9feb20e9ded31c55f3ba18a52e9
    "    if normalize:\n",
    "        plt.plot(x,y_dens/np.sum(y_dens))\n",
    "    else:\n",
    "        plt.plot(x,y_dens)\n",
    "    plt.xlabel('Distance(miles)')\n",
    "    plt.ylabel('Probability Density')\n",
<<<<<<< HEAD
    "    plt.title(\"PDF of trip distance for \"+output_name)\n",
    "    plt.grid()\n",
    "    plt.savefig(\"plots/\" + output_name + \"_dendist.png\")\n",
    "    plt.clf()\n",
    "    plt.close()"
   ]
  },
  {
   "cell_type": "code",
   "execution_count": 8,
   "metadata": {},
   "outputs": [
    {
     "name": "stdout",
     "output_type": "stream",
     "text": [
      "generated plots for iteration: 0\n",
      "generated plots for iteration: 1\n",
      "generated plots for iteration: 2\n",
      "generated plots for iteration: 3\n",
      "generated plots for iteration: 4\n",
      "generated plots for iteration: 5\n",
      "generated plots for iteration: 6\n",
      "generated plots for iteration: 7\n",
      "generated plots for iteration: 8\n",
      "generated plots for iteration: 9\n",
      "generated plots for iteration: 10\n",
      "generated plots for iteration: 11\n",
      "generated plots for iteration: 12\n",
      "generated plots for iteration: 13\n",
      "generated plots for iteration: 14\n",
      "generated plots for iteration: 15\n",
      "generated plots for iteration: 16\n",
      "generated plots for iteration: 17\n",
      "generated plots for iteration: 18\n",
      "generated plots for iteration: 19\n",
      ">>>>>>DONE<<<<<<<\n"
     ]
    }
   ],
   "source": [
    "for i in range(len(files)):\n",
    "    generate_figure(D,i)\n",
    "    print(\"generated plots for iteration: \" + str(i))\n",
    "print(\">>>>>>DONE<<<<<<<\")"
   ]
  },
  {
   "cell_type": "code",
   "execution_count": null,
   "metadata": {},
   "outputs": [],
   "source": []
  },
  {
   "cell_type": "code",
   "execution_count": null,
   "metadata": {},
   "outputs": [],
   "source": []
=======
    "    plt.title(\"PDF of trip distance\")\n",
    "    plt.grid()\n",
    "    plt.savefig(\"/plots/\" + output_name + \"_dendist.png\")"
   ]
>>>>>>> 93b4db69117cd9feb20e9ded31c55f3ba18a52e9
  }
 ],
 "metadata": {
  "kernelspec": {
   "display_name": "Python 3",
   "language": "python",
   "name": "python3"
  },
  "language_info": {
   "codemirror_mode": {
    "name": "ipython",
    "version": 3
   },
   "file_extension": ".py",
   "mimetype": "text/x-python",
   "name": "python",
   "nbconvert_exporter": "python",
   "pygments_lexer": "ipython3",
   "version": "3.8.3"
  },
  "toc": {
   "base_numbering": 1,
   "nav_menu": {},
   "number_sections": true,
   "sideBar": true,
   "skip_h1_title": false,
   "title_cell": "Table of Contents",
   "title_sidebar": "Contents",
   "toc_cell": false,
   "toc_position": {},
   "toc_section_display": true,
   "toc_window_display": false
  }
 },
 "nbformat": 4,
 "nbformat_minor": 4
}
