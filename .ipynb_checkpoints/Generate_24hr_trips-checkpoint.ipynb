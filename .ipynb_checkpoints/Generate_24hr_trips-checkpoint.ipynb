{
 "cells": [
  {
   "cell_type": "markdown",
   "metadata": {},
   "source": [
    "# Generate trips in a 24 hour day"
   ]
  },
  {
   "cell_type": "markdown",
   "metadata": {},
   "source": [
    "## Imports"
   ]
  },
  {
   "cell_type": "code",
   "execution_count": 1,
   "metadata": {},
   "outputs": [],
   "source": [
    "import numpy as np\n",
    "import pandas as pd\n",
    "from matplotlib import pyplot as plt\n",
    "from datetime import time, timedelta\n",
    "import random\n",
    "\n",
    "seed = 30\n",
    "random.seed(seed)\n",
    "\n",
    "decimate = True\n",
    "reduce = 10"
   ]
  },
  {
   "cell_type": "markdown",
   "metadata": {},
   "source": [
    "## Clean up csv and put into pandas dataframe"
   ]
  },
  {
   "cell_type": "code",
   "execution_count": 2,
   "metadata": {},
   "outputs": [],
   "source": [
    "#get number of trips between a certain amount of time and linear space it to create equally spaced timestamps\n",
    "#start and end are timestamps with form '00:00:00'. Periods is an integer value\n",
    "# def timesteps(start, end, T):\n",
    "#     seconds = duration * 3600\n",
    "#     #time_index = np.linspace(0,seconds, points)\n",
    "#     time_delta = seconds / points\n",
    "#     # time(hour, minute, second, microsecond)\n",
    "#     hour = int(time_delta / 3600)\n",
    "#     minute = int((time_delta - hour*3600)/60)\n",
    "#     second = int((time_delta - hour*3600 - minute*60))\n",
    "#     pd.date_range(start, end, periods=np.sum(T))\n",
    "    "
   ]
  },
  {
   "cell_type": "code",
   "execution_count": 3,
   "metadata": {},
   "outputs": [],
   "source": [
    "df=pd.read_csv('distance_matrix.csv', sep=',',header=None)\n",
    "#file_index = 7\n",
    "files = ['home_to_work',#0\n",
    "            'home_to_k12',#1\n",
    "            'home_to_college',#2\n",
    "            'home_to_school',#3\n",
    "            'home_to_SR_unemployed',#4\n",
    "            'home_to_SR_employed',#5\n",
    "            'work_to_home',#6\n",
    "            'school_to_home',#7\n",
    "            'SR_to_home_unemployed',#8\n",
    "            'SR_to_home_employed',#9\n",
    "            'work_to_lunch',#10\n",
    "            'lunch_to_work',#11\n",
    "            'work_to_SR',#12\n",
    "            'work_SR_to_home',#13\n",
    "            'school_to_SR',#14\n",
    "            'school_SR_to_home',#15\n",
    "            'SR_to_SR_unemployed',#16\n",
    "            'SR_to_SR_employed',#17\n",
    "            'SR_SR_to_home_unemployed',#18\n",
    "            'SR_SR_to_home_employed']#19"
   ]
  },
  {
   "cell_type": "code",
   "execution_count": 4,
   "metadata": {},
   "outputs": [],
   "source": [
    "# start = ['06:30:00','06:30:00','18:00:00','10:00:00','16:00:00','15:00:00','11:00:00','19:00:00','16:00:00','17:00:00','12:30:00','11:30:00','15:00:00','17:00:00','10:00:00','20:00:00','20:00:00', '10:00:00']\n",
    "# end = ['08:30:00','08:00:00','21:00:00','14:00:00','18:00:00','16:00:00','15:00:00','22:00:00','17:00:00','18:00:00','13:30:00','12:30:00','16:00:00','18:00:00','20:00:00','23:30:00','23:30:00','20:00:00']\n",
    "start = [\"06:30:00\",\"07:30:00\",\"08:30:00\",\"09:30:00\",\"18:00:00\",\"10:00:00\",\"16:00:00\",\"15:00:00\",\"11:00:00\",\"19:00:00\",\"16:00:00\",\"17:00:00\",\"12:30:00\",\"11:30:00\",\"15:00:00\",\"17:00:00\",\"10:00:00\",\"11:00:00\",\"20:00:00\",\"20:00:00\"]\n",
    "end =   [\"08:30:00\",\"08:30:00\",\"08:00:00\",\"08:00:00\",\"21:00:00\",\"14:00:00\",\"18:00:00\",\"16:00:00\",\"15:00:00\",\"22:00:00\",\"17:00:00\",\"18:00:00\",\"13:30:00\",\"12:30:00\",\"16:00:00\",\"18:00:00\",\"20:00:00\",\"20:00:00\",\"23:30:00\",\"23:30:00\"]\n"
   ]
  },
  {
   "cell_type": "code",
   "execution_count": 5,
   "metadata": {},
   "outputs": [],
   "source": [
    "# print(len(files))\n",
    "# print(len(start))\n",
    "# print(len(end))"
   ]
  },
  {
   "cell_type": "code",
   "execution_count": 6,
   "metadata": {},
   "outputs": [],
   "source": [
    "def timesteps(start, end, trips):\n",
    "    trips[\"time\"] = pd.date_range(start, end, periods=len(trips))\n",
    "    df.reindex(np.random.permutation(trips.index))\n",
    "    return trips"
   ]
  },
  {
   "cell_type": "markdown",
   "metadata": {},
   "source": [
    "## Create P and A arrays. Also make D array for gravity model"
   ]
  },
  {
   "cell_type": "code",
   "execution_count": 7,
   "metadata": {},
   "outputs": [],
   "source": [
    "# df1 = pd.read_csv('csv/' + files[file_index], sep=',',header=None).fillna(0)\n",
    "# header = df1.iloc[0]\n",
    "# df1 = df1.iloc[1:79]\n",
    "# df1.columns = header\n",
    "# #df1 = df1.drop(labels = ['iii', 'TAZ (8a)', 'iv'],axis = 1)\n",
    "# vec = df1\n",
    "# #convert entire dataframe from strings to int64 types. Select P and A arrays by column.\n",
    "# vec = vec.apply(pd.to_numeric)\n",
    "# trip_arr = vec.to_numpy()\n",
    "# P = trip_arr[:,1]\n",
    "# A = trip_arr[:,2]"
   ]
  },
  {
   "cell_type": "code",
   "execution_count": 8,
   "metadata": {},
   "outputs": [],
   "source": [
    "DM = pd.DataFrame(df).to_numpy()\n",
    "#distance matrix? with diagonals representing the average distance traveled to get to zone center\n",
    "D = DM"
   ]
  },
  {
   "cell_type": "markdown",
   "metadata": {},
   "source": [
    "## Gravity model using production and attraction vectors"
   ]
  },
  {
   "cell_type": "code",
   "execution_count": 9,
   "metadata": {},
   "outputs": [],
   "source": [
    "# Gravity model - given A, we want A^* to be used so sum_i T_ij = A_j\n",
    "# A_j is the total trip attraction at zone j\n",
    "#P_i = total trip production at zone i\n",
    "#T_ij is the trips produced at I and attracted to j\n",
    "#F_ij is the calibration term for interchange ij also known as the friction factor or tracel time factor\n",
    "\n",
    "# dims = A.shape[0]\n",
    "# A = A.reshape(dims, 1)\n",
    "# P = P.reshape(dims, 1)\n",
    "\n",
    "def calculate_T(A, P, D):\n",
    "    # invert and square for disutility\n",
    "    F = np.power(D,-2)\n",
    "    T = np.zeros_like(D)\n",
    "    \n",
    "    for i in range(T.shape[0]):\n",
    "        for j in range(T.shape[1]):\n",
    "            denom = F[i,:] @ A\n",
    "            T[i,j] = P[i]*F[i,j]*A[j]/denom\n",
    "    \n",
    "    return T\n",
    "    \n",
    "def calculate_A_star(A, P, D):\n",
    "    A_old = A.copy()\n",
    "    C = np.ones_like(A)\n",
    "    eps = 1e1\n",
    "    n = A.shape[0]\n",
    "    \n",
    "    while (np.linalg.norm(C-A) > eps):\n",
    "        T = calculate_T(A_old, P, D)\n",
    "        C = T.sum(axis=0).reshape(n,1)\n",
    "        \n",
    "        for j in range(n):\n",
    "            if C[j] != 0:\n",
    "                A_old[j] = A[j]*A_old[j] / C[j]\n",
    "        \n",
    "    return A_old\n",
    "    \n",
    "# A_star = calculate_A_star(A, P, D)\n",
    "# T = calculate_T(A_star, P, D)\n",
    "\n",
    "# print(T.sum(axis=0)) # should equal A\n",
    "# print(T.sum(axis=1)) # should equal P\n",
    "# print(T)"
   ]
  },
  {
   "cell_type": "code",
   "execution_count": 13,
   "metadata": {},
   "outputs": [
    {
     "name": "stdout",
     "output_type": "stream",
     "text": [
      ">>>>>>0<<<<<<\n",
      ">>>>>>1<<<<<<\n",
      ">>>>>>2<<<<<<\n",
      ">>>>>>3<<<<<<\n",
      ">>>>>>4<<<<<<\n",
      ">>>>>>5<<<<<<\n",
      ">>>>>>6<<<<<<\n",
      ">>>>>>7<<<<<<\n",
      ">>>>>>8<<<<<<\n",
      ">>>>>>9<<<<<<\n",
      ">>>>>>10<<<<<<\n",
      ">>>>>>11<<<<<<\n",
      ">>>>>>12<<<<<<\n",
      ">>>>>>13<<<<<<\n",
      ">>>>>>14<<<<<<\n",
      ">>>>>>15<<<<<<\n",
      ">>>>>>16<<<<<<\n",
      ">>>>>>17<<<<<<\n",
      ">>>>>>18<<<<<<\n",
      ">>>>>>19<<<<<<\n",
      ">>DONE<<\n"
     ]
    }
   ],
   "source": [
    "for f in range(len(files)):\n",
    "    print(\">>>>>>\" + str(f) + \"<<<<<<\")\n",
    "    df1 = pd.read_csv('production and attraction python code/' + files[f] + \".csv\", sep=',',header=None).fillna(0)\n",
    "    header = df1.iloc[0]\n",
    "    df1 = df1.iloc[1:79]\n",
    "    df1.columns = header\n",
    "    #df1 = df1.drop(labels = ['iii', 'TAZ (8a)', 'iv'],axis = 1)\n",
    "    vec = df1\n",
    "    #convert entire dataframe from strings to int64 types. Select P and A arrays by column.\n",
    "    vec = vec.apply(pd.to_numeric)\n",
    "    trip_arr = vec.to_numpy()\n",
    "    P = trip_arr[:,1]\n",
    "    A = trip_arr[:,2]\n",
    "    \n",
    "    dims = A.shape[0]\n",
    "    A = A.reshape(dims, 1)\n",
    "    P = P.reshape(dims, 1)\n",
    "    \n",
    "    A_star = calculate_A_star(A, P, D)\n",
    "    T = calculate_T(A_star, P, D)\n",
    "    \n",
    "    #create timeseries\n",
    "    dft = pd.DataFrame(T)\n",
    "    dft = dft.round(0).astype('int32')\n",
    "    \n",
    "    cen = pd.read_csv('centroids.csv', sep=',',header=None).fillna(0)\n",
    "    header = cen.iloc[0]\n",
    "    cen = cen.iloc[1:79]\n",
    "    cen.columns = header\n",
    "    \n",
    "    # 0-3 are lat and long of origin and destination\n",
    "    #4-5 is origin and destination TAZ\n",
    "    trips = np.zeros([np.sum(dft.to_numpy()), 6])\n",
    "    ind = 0;\n",
    "    for i in range(len(T)):\n",
    "        for j in range(len(T)):\n",
    "            trips[ind:ind + dft.iloc[i,j],0] = cen.iloc[i,2]\n",
    "            trips[ind:ind + dft.iloc[i,j],1] = cen.iloc[i,3]\n",
    "            trips[ind:ind + dft.iloc[i,j],2] = cen.iloc[j,2]\n",
    "            trips[ind:ind + dft.iloc[i,j],3] = cen.iloc[j,3]\n",
    "            trips[ind:ind + dft.iloc[i,j],4] = i\n",
    "            trips[ind:ind + dft.iloc[i,j],5] = j\n",
    "            ind = ind + dft.iloc[i,j]\n",
    "            \n",
    "    trips = pd.DataFrame(trips)\n",
    "    timesteps(start[f], end[f], trips)\n",
    "    trips = trips.time = (np.random.permutation(trips.time))\n",
    "    #append to numpy array vertically.\n",
    "    if f == 0:\n",
    "        entire_day = trips.to_numpy()\n",
    "    else:\n",
    "        entire_day = np.concatenate((entire_day, trips.to_numpy()), axis=0)\n",
    "    \n",
    "print(\">>DONE<<\")\n",
    "    "
   ]
  },
  {
   "cell_type": "code",
   "execution_count": 12,
   "metadata": {},
   "outputs": [],
   "source": [
    "#convert np array to pandas.\n",
    "ed = pd.DataFrame(entire_day)\n",
    "#decimate for visualiztion\n",
    "if decimate == True:\n",
    "    ed = ed.iloc[::reduce,:]\n",
    "# ed = ed.rename(columns={\"0\": \"lat_origin\", \"1\": \"lon_origin\",\"2\": \"lat_dest\", \"3\": \"lon_dest\",\"4\": \"taz_origin\", \"5\": \"taz_dest\", \"6\": \"time\"})\n",
    "ed.columns = [\"lat_origin\", \"lon_origin\",\"lat_dest\",\"lon_dest\",\"taz_origin\",\"taz_dest\",\"time\"]\n",
    "ed = ed.set_index(ed.time)\n",
    "ed_index = ed.time\n",
    "# ed = ed.drop(columns=['time'])\n",
    "# ed.columns = [\"lat_origin\", \"lon_origin\",\"lat_dest\",\"lon_dest\",\"taz_origin\",\"taz_dest\"]\n",
    "ed = ed.sort_index()\n",
    "if decimate == True:\n",
    "    ed.to_csv(\"time_indexed/\" + \"24hr_time_indexed_trips_decimated_\" + \"_seed_\" + str(seed) + \".csv\")\n",
    "else:\n",
    "    ed.to_csv(\"time_indexed/\" + \"24hr_time_indexed_trips\" + \"_seed_\" + str(seed) +\".csv\")"
   ]
  },
  {
   "cell_type": "markdown",
   "metadata": {},
   "source": [
    "## Plots of Cumulative and Density Distributions"
   ]
  },
  {
   "cell_type": "code",
   "execution_count": 18,
   "metadata": {},
   "outputs": [
    {
     "data": {
      "text/plain": [
       "array([[  37.89731745, -122.4954949 ,   37.88156579, -122.50046911,\n",
       "           0.        ,   18.        ],\n",
       "       [  37.89731745, -122.4954949 ,   37.88156579, -122.50046911,\n",
       "           0.        ,   18.        ],\n",
       "       [  37.89731745, -122.4954949 ,   37.88156579, -122.50046911,\n",
       "           0.        ,   18.        ],\n",
       "       ...,\n",
       "       [  37.68135382, -122.40595911,   37.69036958, -122.44404291,\n",
       "          76.        ,   71.        ],\n",
       "       [  37.68135382, -122.40595911,   37.69036958, -122.44404291,\n",
       "          76.        ,   71.        ],\n",
       "       [  37.68135382, -122.40595911,   37.69036958, -122.44404291,\n",
       "          76.        ,   71.        ]])"
      ]
     },
     "execution_count": 18,
     "metadata": {},
     "output_type": "execute_result"
    }
   ],
   "source": [
    "# #cumulative dist\n",
    "# N = np.unravel_index(np.argsort(D.ravel()), np.shape(D))\n",
    "\n",
    "# y = np.zeros(np.size(T))\n",
    "# y_dens = np.zeros(np.size(T))\n",
    "# x = np.zeros(np.size(T))\n",
    "# for i in range(np.size(T)):\n",
    "#     if i == 0:\n",
    "#         y[i] = T[N[0][i], N[1][i]]\n",
    "#     else:\n",
    "#         y[i] = y[i-1] + T[N[0][i], N[1][i]]\n",
    "#         y_dens[i] = T[N[0][i], N[1][i]]\n",
    "#     x[i] = D[N[0][i], N[1][i]]\n"
   ]
  },
  {
   "cell_type": "code",
   "execution_count": null,
   "metadata": {},
   "outputs": [],
   "source": [
    "# #plots\n",
    "# normalize = True\n",
    "# if normalize:\n",
    "#     plt.plot(x,y/max(y))\n",
    "# else:\n",
    "#     plt.plot(x,y)\n",
    "# plt.xlabel('Distance(miles)')\n",
    "# plt.ylabel('Probability d < Distance')\n",
    "# plt.title(\"CDF of trip distance\")\n",
    "# plt.grid()"
   ]
  },
  {
   "cell_type": "code",
   "execution_count": null,
   "metadata": {},
   "outputs": [],
   "source": [
    "# if normalize:\n",
    "#     plt.plot(x,y_dens/np.sum(y_dens))\n",
    "# else:\n",
    "#     plt.plot(x,y_dens)\n",
    "# plt.xlabel('Distance(miles)')\n",
    "# plt.ylabel('Probability Density')\n",
    "# plt.title(\"PDF of trip distance\")\n",
    "# plt.grid()"
   ]
  },
  {
   "cell_type": "markdown",
   "metadata": {},
   "source": [
    "# Create Timeseries for 24 hours"
   ]
  },
  {
   "cell_type": "code",
   "execution_count": null,
   "metadata": {},
   "outputs": [],
   "source": [
    "# #create timeseries\n",
    "# dft = pd.DataFrame(T)\n",
    "# dft = dft.round(0).astype('int32')\n",
    "# dft.head()"
   ]
  },
  {
   "cell_type": "code",
   "execution_count": null,
   "metadata": {},
   "outputs": [],
   "source": [
    "# cen = pd.read_csv('centroids.csv', sep=',',header=None).fillna(0)\n",
    "# header = cen.iloc[0]\n",
    "# cen = cen.iloc[1:79]\n",
    "# cen.columns = header\n",
    "# cen"
   ]
  },
  {
   "cell_type": "code",
   "execution_count": null,
   "metadata": {},
   "outputs": [],
   "source": [
    "# # 0-3 are lat and long of origin and destination\n",
    "# #4-5 is origin and destination TAZ\n",
    "# trips = np.zeros([np.sum(dft.to_numpy()), 6])\n",
    "# ind = 0;\n",
    "# for i in range(len(T)):\n",
    "#     for j in range(len(T)):\n",
    "#         trips[ind:ind + dft.iloc[i,j],0] = cen.iloc[i,2]\n",
    "#         trips[ind:ind + dft.iloc[i,j],1] = cen.iloc[i,3]\n",
    "#         trips[ind:ind + dft.iloc[i,j],2] = cen.iloc[j,2]\n",
    "#         trips[ind:ind + dft.iloc[i,j],3] = cen.iloc[j,3]\n",
    "#         trips[ind:ind + dft.iloc[i,j],4] = i\n",
    "#         trips[ind:ind + dft.iloc[i,j],5] = j\n",
    "#         ind = ind + dft.iloc[i,j]\n",
    "# print(trips)"
   ]
  },
  {
   "cell_type": "code",
   "execution_count": null,
   "metadata": {},
   "outputs": [],
   "source": [
    "# def timesteps(start, end, trips):\n",
    "#     trips[\"time\"] = pd.date_range(start, end, periods=len(trips))\n",
    "#     df.reindex(np.random.permutation(trips.index))\n",
    "#     return trips\n"
   ]
  },
  {
   "cell_type": "code",
   "execution_count": null,
   "metadata": {},
   "outputs": [],
   "source": [
    "# trips = pd.DataFrame(trips)\n",
    "# timesteps(start[file_index], end[file_index], trips)"
   ]
  },
  {
   "cell_type": "code",
   "execution_count": null,
   "metadata": {},
   "outputs": [],
   "source": [
    "# trips = trips.set_index(np.random.permutation(trips.time))\n",
    "# time_index =trips.time\n",
    "# trips = trips.drop(columns=['time'])"
   ]
  },
  {
   "cell_type": "code",
   "execution_count": null,
   "metadata": {},
   "outputs": [],
   "source": [
    "# trips = trips.sort_index()\n",
    "# trips"
   ]
  },
  {
   "cell_type": "code",
   "execution_count": null,
   "metadata": {},
   "outputs": [],
   "source": [
    "#trips.to_csv(\"time_indexed/\" + files[file_index][:-4] + \"_time_indexed_trips.csv\")"
   ]
  },
  {
   "cell_type": "markdown",
   "metadata": {},
   "source": [
    "# Attempt at Accumulator for Arrivals and Departures."
   ]
  },
  {
   "cell_type": "markdown",
   "metadata": {},
   "source": [
    "## Required 3-d array. not for kepler."
   ]
  },
  {
   "cell_type": "code",
   "execution_count": null,
   "metadata": {},
   "outputs": [],
   "source": [
    "# tp = trips.to_numpy()[:,[4,5]]"
   ]
  },
  {
   "cell_type": "code",
   "execution_count": null,
   "metadata": {},
   "outputs": [],
   "source": [
    "# source = np.zeros([np.sum(dft.to_numpy()), len(T)])\n",
    "# drain = np.zeros([np.sum(dft.to_numpy()), len(T)])"
   ]
  },
  {
   "cell_type": "code",
   "execution_count": null,
   "metadata": {},
   "outputs": [],
   "source": [
    "# source[0,:] = np.sum(dft.to_numpy(),axis=1)\n",
    "# source = source.astype(int)\n",
    "# source"
   ]
  },
  {
   "cell_type": "code",
   "execution_count": null,
   "metadata": {},
   "outputs": [],
   "source": [
    "# for i in range(np.sum(dft.to_numpy())):\n",
    "#     if i == 0:\n",
    "#         pass\n",
    "#     else:\n",
    "#         drain[i, :] = drain[i-1, :]\n",
    "#         drain[i,int(tp[i,1])] += 1\n",
    "#         source[i, :] = source[i-1, :]\n",
    "#         source[i,int(tp[i,0])] -= 1"
   ]
  },
  {
   "cell_type": "code",
   "execution_count": null,
   "metadata": {},
   "outputs": [],
   "source": [
    "# source[np.sum(dft.to_numpy())-1,:]"
   ]
  },
  {
   "cell_type": "code",
   "execution_count": null,
   "metadata": {},
   "outputs": [],
   "source": [
    "# src = pd.DataFrame(source)\n",
    "# drn = pd.DataFrame(drain)"
   ]
  },
  {
   "cell_type": "code",
   "execution_count": null,
   "metadata": {},
   "outputs": [],
   "source": [
    "# src[\"time\"] = trips.index\n",
    "# drn[\"time\"] = trips.index"
   ]
  },
  {
   "cell_type": "code",
   "execution_count": null,
   "metadata": {},
   "outputs": [],
   "source": [
    "# src = src.set_index(src.time)\n",
    "# src = src.drop(columns=['time'])\n",
    "# drn = drn.set_index(drn.time)\n",
    "# drn = drn.drop(columns=['time'])"
   ]
  }
 ],
 "metadata": {
  "kernelspec": {
   "display_name": "Python 3",
   "language": "python",
   "name": "python3"
  },
  "language_info": {
   "codemirror_mode": {
    "name": "ipython",
    "version": 3
   },
   "file_extension": ".py",
   "mimetype": "text/x-python",
   "name": "python",
   "nbconvert_exporter": "python",
   "pygments_lexer": "ipython3",
   "version": "3.8.3"
  },
  "toc": {
   "base_numbering": 1,
   "nav_menu": {},
   "number_sections": true,
   "sideBar": true,
   "skip_h1_title": false,
   "title_cell": "Table of Contents",
   "title_sidebar": "Contents",
   "toc_cell": false,
   "toc_position": {},
   "toc_section_display": true,
   "toc_window_display": false
  }
 },
 "nbformat": 4,
 "nbformat_minor": 4
}
