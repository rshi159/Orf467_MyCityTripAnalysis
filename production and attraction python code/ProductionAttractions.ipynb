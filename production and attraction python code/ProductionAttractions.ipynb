{
 "cells": [
  {
   "cell_type": "code",
   "execution_count": 1,
   "metadata": {},
   "outputs": [],
   "source": [
    "import pandas as pd\n",
    "import numpy as np\n",
    "import random"
   ]
  },
  {
   "cell_type": "code",
   "execution_count": 2,
   "metadata": {
    "scrolled": true
   },
   "outputs": [
    {
     "name": "stdout",
     "output_type": "stream",
     "text": [
      "[[  1.           6.           9.           2.88888889   4.66666667]\n",
      " [  2.           2.           3.           2.           4.        ]\n",
      " [  3.           3.           1.           2.           7.        ]\n",
      " [  4.           1.         247.           8.49797571  18.15789474]\n",
      " [  5.           6.           7.           2.28571429  21.42857143]\n",
      " [  6.           5.           2.           2.          24.5       ]\n",
      " [  7.           9.           3.           2.33333333  26.66666667]\n",
      " [  8.           8.           4.           2.25        28.75      ]\n",
      " [  9.           9.           3.           2.          32.        ]\n",
      " [ 10.           3.           1.           3.           8.        ]\n",
      " [ 11.           4.          18.           5.5         30.        ]\n",
      " [ 12.           2.           3.           4.          32.        ]\n",
      " [ 13.           6.           9.           7.          33.        ]\n",
      " [ 14.           5.           3.           4.           3.        ]\n",
      " [ 15.           9.           4.           4.5          8.5       ]\n",
      " [ 16.           6.           8.           6.          10.375     ]\n",
      " [ 17.           1.           1.           5.           2.        ]\n",
      " [ 18.           9.           3.           5.66666667   2.66666667]\n",
      " [ 19.          11.           1.           5.           4.        ]\n",
      " [ 20.           1.           1.           6.           4.        ]\n",
      " [ 21.          11.           2.           6.5          5.        ]\n",
      " [ 22.           5.           3.           6.           8.        ]\n",
      " [ 23.           5.           4.           7.5         32.        ]\n",
      " [ 24.           2.           5.           9.           2.        ]\n",
      " [ 25.           6.          10.           9.1          4.4       ]\n",
      " [ 26.           9.           2.           7.           8.5       ]\n",
      " [ 27.           8.           2.           7.5         28.        ]\n",
      " [ 28.           5.           3.           9.           3.        ]\n",
      " [ 29.          11.           1.           8.           6.        ]\n",
      " [ 30.           6.           6.           8.33333333  13.83333333]\n",
      " [ 31.           2.           1.           8.          22.        ]\n",
      " [ 32.          10.           8.          10.125        6.75      ]\n",
      " [ 33.           6.           5.          10.4         30.4       ]\n",
      " [ 34.           9.           2.          10.5         32.        ]\n",
      " [ 35.           9.           5.          11.6          3.2       ]\n",
      " [ 36.           8.           2.          11.5          8.        ]\n",
      " [ 37.           8.           1.          12.           6.        ]\n",
      " [ 38.           6.          17.          17.          32.05882353]\n",
      " [ 39.           9.           6.          14.16666667  32.83333333]\n",
      " [ 40.          11.           3.          13.           3.        ]\n",
      " [ 41.           1.          52.          22.71153846   3.21153846]\n",
      " [ 42.          12.           3.          14.           7.        ]\n",
      " [ 43.          10.           8.          14.25        29.75      ]\n",
      " [ 44.          12.           3.          14.          25.        ]\n",
      " [ 45.           8.           5.          14.6         27.8       ]\n",
      " [ 46.          10.           7.          16.28571429   7.14285714]\n",
      " [ 47.           6.          39.          17.51282051  10.15384615]\n",
      " [ 48.          11.           7.          15.57142857  16.42857143]\n",
      " [ 49.          12.           6.          16.          21.5       ]\n",
      " [ 50.           1.         197.          25.58883249  26.67005076]\n",
      " [ 51.           9.          23.          19.7826087   14.95652174]\n",
      " [ 52.           3.           6.          17.          27.5       ]\n",
      " [ 53.           8.           3.          17.66666667  19.33333333]\n",
      " [ 54.           6.           6.          18.          29.5       ]\n",
      " [ 55.           5.           3.          18.          31.        ]\n",
      " [ 56.           3.          13.          20.84615385   3.61538461]\n",
      " [ 57.          10.           7.          19.14285714  17.57142857]\n",
      " [ 58.           5.           2.          19.          13.5       ]\n",
      " [ 59.          11.           4.          20.5         20.        ]\n",
      " [ 60.           2.           5.          20.6          6.6       ]\n",
      " [ 61.           9.           1.          20.          19.        ]\n",
      " [ 62.           5.           5.          21.8          7.4       ]\n",
      " [ 63.           2.          21.          23.9047619   11.38095238]\n",
      " [ 64.           6.          31.          25.32258065  18.09677419]\n",
      " [ 65.           7.          21.          24.0952381   11.61904762]\n",
      " [ 66.           9.          17.          26.47058824   5.47058824]\n",
      " [ 67.           6.           9.          24.33333333   6.88888889]\n",
      " [ 68.           5.           5.          23.4         16.2       ]\n",
      " [ 69.           3.           9.          25.22222222  21.88888889]\n",
      " [ 70.           8.           2.          25.5          4.        ]\n",
      " [ 71.           5.           5.          28.8          7.        ]\n",
      " [ 72.           6.          32.          30.625       11.5625    ]\n",
      " [ 73.           9.          11.          28.90909091  15.63636364]\n",
      " [ 74.           8.           3.          28.33333333  19.33333333]\n",
      " [ 75.           2.          16.          31.4375       7.0625    ]\n",
      " [ 76.           5.           4.          30.5         15.5       ]\n",
      " [ 77.           2.           6.          31.83333333  16.66666667]\n",
      " [ 78.          10.           8.          31.75        18.625     ]]\n",
      "[['Seawater' 1]\n",
      " ['Greenland' 2]\n",
      " ['Beach (leisure)' 3]\n",
      " ['State School' 4]\n",
      " ['K-12' 5]\n",
      " ['Residential' 6]\n",
      " ['Disney' 7]\n",
      " ['Dispensaries' 8]\n",
      " ['Retail/Restaurant' 9]\n",
      " ['Professional Office (downtown)' 10]\n",
      " ['Industrial Port' 11]\n",
      " ['Bridge' 12]]\n"
     ]
    }
   ],
   "source": [
    "TAZ = pd.read_csv('TAZ Data - Sheet1.csv').to_numpy()\n",
    "TAZ_num = TAZ.shape[0]\n",
    "zone_name = pd.read_csv('TAZ Data - Sheet2.csv',header=None).to_numpy()\n",
    "print(TAZ)\n",
    "print(zone_name)"
   ]
  },
  {
   "cell_type": "code",
   "execution_count": 3,
   "metadata": {},
   "outputs": [],
   "source": [
    "# demographics\n",
    "tp = 500000 #total population\n",
    "under_5 = 4.5/100\n",
    "under_18 = 13.4/100\n",
    "college_student = 20000/tp\n",
    "over_65 = 15.1/100\n",
    "\n",
    "k12 = under_18-under_5\n",
    "working_age = 1 - (under_18+college_student+over_65)\n",
    "demographics = [under_5, k12, college_student, working_age, over_65]\n",
    "\n",
    "unemployment = 0.082\n",
    "employed_pop = (1-unemployment)*demographics[3]*tp\n",
    "unemployed_pop = unemployment*demographics[3]*tp"
   ]
  },
  {
   "cell_type": "code",
   "execution_count": 4,
   "metadata": {},
   "outputs": [
    {
     "name": "stdout",
     "output_type": "stream",
     "text": [
      "[498.0, 60.0, 30.0, 18.0, 39.0, 188.0, 21.0, 22.0, 80.0, 38.0, 18.0, 12.0]\n"
     ]
    }
   ],
   "source": [
    "pixel_marketcap = []\n",
    "for i in range(1,13):\n",
    "    pixel_marketcap.append(sum(TAZ[TAZ[:,1]==i][:,2]))\n",
    "print(pixel_marketcap)"
   ]
  },
  {
   "cell_type": "code",
   "execution_count": 5,
   "metadata": {},
   "outputs": [],
   "source": [
    "class AP:\n",
    "  def __init__(self, pop, P_zones =None, A_zones =None, A_dist =np.ones(12)/12):\n",
    "    self.P_zones = np.array(P_zones)\n",
    "    self.A_zones = np.array(A_zones)\n",
    "    self.pop = pop\n",
    "    self.A_dist = A_dist\n",
    "\n",
    "  def equalize(self):\n",
    "    \"\"\"makes the size of the attraction vector equal to the size of the production vector\"\"\"\n",
    "    if sum(self.P) != sum(self.A):\n",
    "        disparity = sum(self.P) - sum(self.A)\n",
    "#         print(sum(P), sum(A),disparity)\n",
    "        k = 0\n",
    "        while (k == 0):\n",
    "            ind_draw = random.randint(0,TAZ_num-1)\n",
    "            k = self.A[ind_draw]\n",
    "        self.A[ind_draw] = self.A[ind_draw] + disparity\n",
    "    return\n",
    "    \n",
    "  def apv(self):\n",
    "    \"\"\"creates attraction and production vectors\"\"\"\n",
    "    P_total_pixel_mrktcap = sum(np.take(pixel_marketcap, self.P_zones-1))\n",
    "    A_total_pixel_mrktcap = sum(np.take(pixel_marketcap, self.A_zones-1))\n",
    "#         print(P_total_pixel_mrktcap, A_total_pixel_mrktcap)\n",
    "    #indicator      \n",
    "    P = np.array([a in self.P_zones for a in TAZ[:,1]]).astype(int)/P_total_pixel_mrktcap\n",
    "    A = np.array([a in self.A_zones for a in TAZ[:,1]]).astype(int)/A_total_pixel_mrktcap\n",
    "#         print(P*TAZ[:,2])\n",
    "#         print(A*TAZ[:,2])\n",
    "    self.P = np.around(self.pop*TAZ[:,2]*P)\n",
    "    self.A = np.around(self.pop*TAZ[:,2]*A)\n",
    "    return\n",
    "    \n",
    "  def pv(self):\n",
    "    \"\"\"creates production vector from zone denotes\"\"\"\n",
    "    P_total_pixel_mrktcap = sum(np.take(pixel_marketcap, self.P_zones-1))\n",
    "    P = np.array([a in self.P_zones for a in TAZ[:,1]]).astype(int)/P_total_pixel_mrktcap\n",
    "    self.P = np.around(self.pop*TAZ[:,2]*P)\n",
    "    return\n",
    "    \n",
    "  def av(self):\n",
    "    \"\"\"creates attraction vector from zone denotes\"\"\"\n",
    "    A_total_pixel_mrktcap = sum(np.take(pixel_marketcap, self.A_zones-1))\n",
    "    A = np.array([a in self.A_zones for a in TAZ[:,1]]).astype(int)/A_total_pixel_mrktcap\n",
    "    self.A = np.around(self.pop*TAZ[:,2]*A)\n",
    "    return\n",
    "\n",
    "  def a_dist(self):\n",
    "    \"\"\"creates attraction vector from distribution of demands\"\"\"\n",
    "    A = np.take(self.A_dist, (np.array(TAZ[:,1])-1).astype(int))/np.take(pixel_marketcap, (np.array(TAZ[:,1])-1).astype(int))\n",
    "    A = np.around(self.pop*TAZ[:,2]*A)\n",
    "    self.A = A\n",
    "    return\n",
    "\n",
    "  def df(self):\n",
    "        \"\"\"returns pairwise dataframe\"\"\"\n",
    "        return np.column_stack((self.P,self.A))\n",
    "        "
   ]
  },
  {
   "cell_type": "markdown",
   "metadata": {},
   "source": [
    "#### Object Tests"
   ]
  },
  {
   "cell_type": "code",
   "execution_count": 6,
   "metadata": {},
   "outputs": [
    {
     "name": "stdout",
     "output_type": "stream",
     "text": [
      "309824.0\n",
      "309826.0\n",
      "309824.0\n",
      "309824.0\n"
     ]
    }
   ],
   "source": [
    "x = AP(employed_pop,[6], [10,11])\n",
    "x.apv()\n",
    "print(sum(x.P))\n",
    "print(sum(x.A))\n",
    "x.equalize()\n",
    "print(sum(x.P))\n",
    "print(sum(x.A))"
   ]
  },
  {
   "cell_type": "code",
   "execution_count": 7,
   "metadata": {
    "scrolled": true
   },
   "outputs": [
    {
     "name": "stdout",
     "output_type": "stream",
     "text": [
      "[    0.   361.   344.     0.     0.     0.  2167.  1126.  2167.   344.\n",
      "     0.   361.     0.     0.  2889.     0.     0.  2167.   344.     0.\n",
      "   688.     0.     0.   602.     0.  1444.   563.     0.   344.     0.\n",
      "   120.     0.     0.  1444.  3611.   563.   281.     0.  4333.  1032.\n",
      "     0.   516.     0.   516.  1407.     0.     0.  2407.  1032.     0.\n",
      " 16611.  2064.   844.     0.     0.  4471.     0.     0.  1376.   602.\n",
      "   722.     0.  2528.     0. 13413. 12278.     0.     0.  3095.   563.\n",
      "     0.     0.  7944.   844.  1926.     0.   722.     0.]\n"
     ]
    }
   ],
   "source": [
    "x = AP(pop =(unemployed_pop+demographics[4]*tp), A_dist =[0,0.07,0.10,0,0,0,0.13,0.06,0.56,0,0.06,0.02])\n",
    "x.a_dist()\n",
    "print(x.A)"
   ]
  },
  {
   "cell_type": "markdown",
   "metadata": {},
   "source": [
    "### Row 1"
   ]
  },
  {
   "cell_type": "code",
   "execution_count": 8,
   "metadata": {},
   "outputs": [],
   "source": [
    "home_to_work = AP(employed_pop, [6],[10,11])\n",
    "home_to_work.apv()\n",
    "home_to_work.equalize()"
   ]
  },
  {
   "cell_type": "markdown",
   "metadata": {},
   "source": [
    "### Row 2"
   ]
  },
  {
   "cell_type": "code",
   "execution_count": 9,
   "metadata": {},
   "outputs": [],
   "source": [
    "home_to_k12 = AP((demographics[1])*tp,[6],[5])\n",
    "home_to_k12.apv()\n",
    "home_to_k12.equalize()\n",
    "home_to_college = AP((demographics[2])*tp,[6],[4])\n",
    "home_to_college.apv()\n",
    "home_to_college.equalize()\n",
    "\n",
    "home_to_school = AP(demographics[1]+demographics[2])\n",
    "home_to_school.P = home_to_k12.P + home_to_college.P\n",
    "home_to_school.A = home_to_k12.A + home_to_college.A"
   ]
  },
  {
   "cell_type": "markdown",
   "metadata": {},
   "source": [
    "### Row 3"
   ]
  },
  {
   "cell_type": "code",
   "execution_count": 10,
   "metadata": {},
   "outputs": [],
   "source": [
    "recreational_demand_from_home = [0,0.07,0.10,0,0,0,0.13,0.06,0.56,0,0.06,0.02]\n",
    "home_to_SR_unemployed = AP(pop =(unemployed_pop+demographics[4]*tp), P_zones =[6], A_dist =recreational_demand_from_home)\n",
    "home_to_SR_unemployed.pv()\n",
    "home_to_SR_unemployed.a_dist()\n",
    "home_to_SR_unemployed.equalize()\n",
    "\n",
    "home_to_SR_employed = AP(pop =0.3*(demographics[1]+demographics[2])*tp +0.5*employed_pop, P_zones =[6], A_dist =recreational_demand_from_home)\n",
    "home_to_SR_employed.pv()\n",
    "home_to_SR_employed.a_dist()\n",
    "home_to_SR_employed.equalize()"
   ]
  },
  {
   "cell_type": "markdown",
   "metadata": {},
   "source": [
    "### Row 4"
   ]
  },
  {
   "cell_type": "code",
   "execution_count": 11,
   "metadata": {},
   "outputs": [],
   "source": [
    "work_to_home = AP(pop =sum(np.around(0.6*home_to_work.A)), A_zones =[6])\n",
    "work_to_home.P = np.around(0.6*home_to_work.A)\n",
    "work_to_home.av()\n",
    "work_to_home.equalize()"
   ]
  },
  {
   "cell_type": "markdown",
   "metadata": {},
   "source": [
    "### Row 5"
   ]
  },
  {
   "cell_type": "code",
   "execution_count": 12,
   "metadata": {},
   "outputs": [],
   "source": [
    "school_to_home = AP(pop =sum(np.around(0.75*home_to_school.A)), A_zones =[6])\n",
    "school_to_home.P = np.around(0.75*home_to_school.A)\n",
    "school_to_home.av()\n",
    "school_to_home.equalize()"
   ]
  },
  {
   "cell_type": "markdown",
   "metadata": {},
   "source": [
    "### Row 6"
   ]
  },
  {
   "cell_type": "code",
   "execution_count": 13,
   "metadata": {},
   "outputs": [],
   "source": [
    "SR_to_home_unemployed = AP(pop =sum(np.around(0.50*home_to_SR_unemployed.A)), A_zones =[6])\n",
    "SR_to_home_unemployed.P = np.around(0.50*home_to_SR_unemployed.A)\n",
    "SR_to_home_unemployed.av()\n",
    "SR_to_home_unemployed.equalize()\n",
    "\n",
    "SR_to_home_employed = AP(pop =sum(np.around(0.50*home_to_SR_employed.A)), A_zones =[6])\n",
    "SR_to_home_employed.P = np.around(0.50*home_to_SR_employed.A)\n",
    "SR_to_home_employed.av()\n",
    "SR_to_home_employed.equalize()"
   ]
  },
  {
   "cell_type": "markdown",
   "metadata": {},
   "source": [
    "### Row 7"
   ]
  },
  {
   "cell_type": "code",
   "execution_count": 14,
   "metadata": {},
   "outputs": [],
   "source": [
    "work_to_lunch = AP(pop =sum(np.around(0.10*home_to_work.A)), A_zones =[9])\n",
    "work_to_lunch.P = np.around(0.10*home_to_work.A)\n",
    "work_to_lunch.av()\n",
    "work_to_lunch.equalize()\n",
    "\n",
    "lunch_to_work = AP(sum(np.around(0.10*home_to_work.A)))\n",
    "lunch_to_work.P = work_to_lunch.A\n",
    "lunch_to_work.A = work_to_lunch.P\n",
    "\n",
    "work_to_SR = AP(pop =sum(np.around(0.40*home_to_work.A)), A_dist =[0,0.10,0.13,0,0,0,0.04,0.15,0.56,0,0.00,0.02])\n",
    "work_to_SR.P = np.around(0.40*home_to_work.A)\n",
    "work_to_SR.a_dist()\n",
    "work_to_SR.equalize()\n",
    "\n",
    "work_SR_to_home = AP(pop =sum(np.around(0.40*home_to_work.A)), A_zones=[6])\n",
    "work_SR_to_home.P = work_to_SR.A\n",
    "work_SR_to_home.av()\n",
    "work_SR_to_home.equalize()"
   ]
  },
  {
   "cell_type": "markdown",
   "metadata": {},
   "source": [
    "### Row 8"
   ]
  },
  {
   "cell_type": "code",
   "execution_count": 15,
   "metadata": {},
   "outputs": [],
   "source": [
    "school_to_SR = AP(pop =sum(np.around(0.25*home_to_school.A)), A_dist =[0,0.04,0.13,0,0,0,0.23,0.01,0.52,0,0.02,0.05])\n",
    "school_to_SR.P = np.around(0.25*home_to_school.A)\n",
    "school_to_SR.a_dist()\n",
    "school_to_SR.equalize\n",
    "\n",
    "school_SR_to_home = AP(pop =sum(np.around(0.25*home_to_school.A)), A_zones=[6])\n",
    "school_SR_to_home.P = school_to_SR.A\n",
    "school_SR_to_home.av()\n",
    "school_SR_to_home.equalize()"
   ]
  },
  {
   "cell_type": "markdown",
   "metadata": {},
   "source": [
    "### Row 9 (more shopping for shoppers)"
   ]
  },
  {
   "cell_type": "code",
   "execution_count": 16,
   "metadata": {},
   "outputs": [],
   "source": [
    "SR_to_SR_unemployed = AP(pop =sum(home_to_SR_unemployed.A), A_dist =[0,0.10,0.15,0,0,0,0.15,0.10,0.42,0,0.07,0.01])\n",
    "SR_to_SR_unemployed.P = home_to_SR_unemployed.A\n",
    "SR_to_SR_unemployed.a_dist()\n",
    "SR_to_SR_unemployed.equalize()\n",
    "\n",
    "SR_to_SR_employed = AP(pop=sum(home_to_SR_employed.A), A_dist=[0,0.10,0.15,0,0,0,0.15,0.10,0.42,0,0.07,0.01])\n",
    "SR_to_SR_employed.P = home_to_SR_employed.A\n",
    "SR_to_SR_employed.a_dist()\n",
    "SR_to_SR_employed.equalize()\n",
    "\n",
    "SR_SR_to_home_unemployed = AP(pop =sum(home_to_SR_unemployed.A), A_zones=[6])\n",
    "SR_SR_to_home_unemployed.P = SR_to_SR_unemployed.A\n",
    "SR_SR_to_home_unemployed.av()\n",
    "SR_SR_to_home_unemployed.equalize\n",
    "\n",
    "SR_SR_to_home_employed = AP(pop =sum(home_to_SR_employed.A), A_zones=[6])\n",
    "SR_SR_to_home_employed.P = SR_to_SR_employed.A\n",
    "SR_SR_to_home_employed.av()\n",
    "SR_SR_to_home_employed.equalize()"
   ]
  },
  {
   "cell_type": "code",
   "execution_count": 17,
   "metadata": {},
   "outputs": [],
   "source": [
    "vectors =  [home_to_work,\n",
    "            home_to_k12,\n",
    "            home_to_college,\n",
    "            home_to_school,\n",
    "            home_to_SR_unemployed,\n",
    "            home_to_SR_employed,\n",
    "            work_to_home,\n",
    "            school_to_home,\n",
    "            SR_to_home_unemployed,\n",
    "            SR_to_home_employed,\n",
    "            work_to_lunch,\n",
    "            lunch_to_work,\n",
    "            work_to_SR,\n",
    "            work_SR_to_home,\n",
    "            school_to_SR,\n",
    "            school_SR_to_home,\n",
    "            SR_to_SR_unemployed,\n",
    "            SR_to_SR_employed,\n",
    "            SR_SR_to_home_unemployed,\n",
    "            SR_SR_to_home_employed]\n",
    "strings =  ['home_to_work',\n",
    "            'home_to_k12',\n",
    "            'home_to_college',\n",
    "            'home_to_school',\n",
    "            'home_to_SR_unemployed',\n",
    "            'home_to_SR_employed',\n",
    "            'work_to_home',\n",
    "            'school_to_home',\n",
    "            'SR_to_home_unemployed',\n",
    "            'SR_to_home_employed',\n",
    "            'work_to_lunch',\n",
    "            'lunch_to_work',\n",
    "            'work_to_SR',\n",
    "            'work_SR_to_home',\n",
    "            'school_to_SR',\n",
    "            'school_SR_to_home',\n",
    "            'SR_to_SR_unemployed',\n",
    "            'SR_to_SR_employed',\n",
    "            'SR_SR_to_home_unemployed',\n",
    "            'SR_SR_to_home_employed']"
   ]
  },
  {
   "cell_type": "code",
   "execution_count": 18,
   "metadata": {},
   "outputs": [
    {
     "name": "stdout",
     "output_type": "stream",
     "text": [
      "False\n",
      "False\n",
      "False\n",
      "False\n",
      "False\n",
      "False\n",
      "False\n",
      "False\n",
      "False\n",
      "False\n",
      "False\n",
      "False\n",
      "False\n",
      "False\n",
      "False\n",
      "False\n",
      "False\n",
      "False\n",
      "False\n",
      "False\n"
     ]
    }
   ],
   "source": [
    "for v in vectors:\n",
    "    print((v.df()<0).any())"
   ]
  },
  {
   "cell_type": "code",
   "execution_count": 19,
   "metadata": {},
   "outputs": [],
   "source": [
    "i=0\n",
    "for v in vectors:\n",
    "    pd.DataFrame(v.df()).to_csv(strings[i]+\".csv\",header=[\"P_\"+strings[i],\"A_\"+strings[i]])\n",
    "    i+=1"
   ]
  },
  {
   "cell_type": "code",
   "execution_count": 20,
   "metadata": {},
   "outputs": [
    {
     "data": {
      "text/html": [
       "<div>\n",
       "<style scoped>\n",
       "    .dataframe tbody tr th:only-of-type {\n",
       "        vertical-align: middle;\n",
       "    }\n",
       "\n",
       "    .dataframe tbody tr th {\n",
       "        vertical-align: top;\n",
       "    }\n",
       "\n",
       "    .dataframe thead th {\n",
       "        text-align: right;\n",
       "    }\n",
       "</style>\n",
       "<table border=\"1\" class=\"dataframe\">\n",
       "  <thead>\n",
       "    <tr style=\"text-align: right;\">\n",
       "      <th></th>\n",
       "      <th>0</th>\n",
       "      <th>1</th>\n",
       "    </tr>\n",
       "  </thead>\n",
       "  <tbody>\n",
       "    <tr>\n",
       "      <th>0</th>\n",
       "      <td>2130.0</td>\n",
       "      <td>0.0</td>\n",
       "    </tr>\n",
       "    <tr>\n",
       "      <th>1</th>\n",
       "      <td>0.0</td>\n",
       "      <td>0.0</td>\n",
       "    </tr>\n",
       "    <tr>\n",
       "      <th>2</th>\n",
       "      <td>0.0</td>\n",
       "      <td>0.0</td>\n",
       "    </tr>\n",
       "    <tr>\n",
       "      <th>3</th>\n",
       "      <td>0.0</td>\n",
       "      <td>0.0</td>\n",
       "    </tr>\n",
       "    <tr>\n",
       "      <th>4</th>\n",
       "      <td>1657.0</td>\n",
       "      <td>0.0</td>\n",
       "    </tr>\n",
       "    <tr>\n",
       "      <th>...</th>\n",
       "      <td>...</td>\n",
       "      <td>...</td>\n",
       "    </tr>\n",
       "    <tr>\n",
       "      <th>73</th>\n",
       "      <td>0.0</td>\n",
       "      <td>0.0</td>\n",
       "    </tr>\n",
       "    <tr>\n",
       "      <th>74</th>\n",
       "      <td>0.0</td>\n",
       "      <td>0.0</td>\n",
       "    </tr>\n",
       "    <tr>\n",
       "      <th>75</th>\n",
       "      <td>0.0</td>\n",
       "      <td>4564.0</td>\n",
       "    </tr>\n",
       "    <tr>\n",
       "      <th>76</th>\n",
       "      <td>0.0</td>\n",
       "      <td>0.0</td>\n",
       "    </tr>\n",
       "    <tr>\n",
       "      <th>77</th>\n",
       "      <td>0.0</td>\n",
       "      <td>0.0</td>\n",
       "    </tr>\n",
       "  </tbody>\n",
       "</table>\n",
       "<p>78 rows × 2 columns</p>\n",
       "</div>"
      ],
      "text/plain": [
       "         0       1\n",
       "0   2130.0     0.0\n",
       "1      0.0     0.0\n",
       "2      0.0     0.0\n",
       "3      0.0     0.0\n",
       "4   1657.0     0.0\n",
       "..     ...     ...\n",
       "73     0.0     0.0\n",
       "74     0.0     0.0\n",
       "75     0.0  4564.0\n",
       "76     0.0     0.0\n",
       "77     0.0     0.0\n",
       "\n",
       "[78 rows x 2 columns]"
      ]
     },
     "execution_count": 20,
     "metadata": {},
     "output_type": "execute_result"
    }
   ],
   "source": [
    "pd.DataFrame(vectors[1].df())"
   ]
  }
 ],
 "metadata": {
  "kernelspec": {
   "display_name": "Python 3",
   "language": "python",
   "name": "python3"
  },
  "language_info": {
   "codemirror_mode": {
    "name": "ipython",
    "version": 3
   },
   "file_extension": ".py",
   "mimetype": "text/x-python",
   "name": "python",
   "nbconvert_exporter": "python",
   "pygments_lexer": "ipython3",
   "version": "3.7.7"
  }
 },
 "nbformat": 4,
 "nbformat_minor": 4
}
