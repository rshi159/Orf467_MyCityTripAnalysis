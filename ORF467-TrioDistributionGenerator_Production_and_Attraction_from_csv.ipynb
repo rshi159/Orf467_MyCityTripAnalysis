{
 "cells": [
  {
   "cell_type": "code",
   "execution_count": 1,
   "metadata": {
    "scrolled": true
   },
   "outputs": [
    {
     "name": "stdout",
     "output_type": "stream",
     "text": [
      "row6_homebound_employed_shoppers.csv\n"
     ]
    },
    {
     "data": {
      "text/html": [
       "<div>\n",
       "<style scoped>\n",
       "    .dataframe tbody tr th:only-of-type {\n",
       "        vertical-align: middle;\n",
       "    }\n",
       "\n",
       "    .dataframe tbody tr th {\n",
       "        vertical-align: top;\n",
       "    }\n",
       "\n",
       "    .dataframe thead th {\n",
       "        text-align: right;\n",
       "    }\n",
       "</style>\n",
       "<table border=\"1\" class=\"dataframe\">\n",
       "  <thead>\n",
       "    <tr style=\"text-align: right;\">\n",
       "      <th></th>\n",
       "      <th>0.0</th>\n",
       "      <th>p_6_e</th>\n",
       "      <th>a_6_e</th>\n",
       "    </tr>\n",
       "  </thead>\n",
       "  <tbody>\n",
       "    <tr>\n",
       "      <th>1</th>\n",
       "      <td>1.0</td>\n",
       "      <td>0</td>\n",
       "      <td>463</td>\n",
       "    </tr>\n",
       "    <tr>\n",
       "      <th>2</th>\n",
       "      <td>2.0</td>\n",
       "      <td>34</td>\n",
       "      <td>0</td>\n",
       "    </tr>\n",
       "    <tr>\n",
       "      <th>3</th>\n",
       "      <td>3.0</td>\n",
       "      <td>32</td>\n",
       "      <td>0</td>\n",
       "    </tr>\n",
       "    <tr>\n",
       "      <th>4</th>\n",
       "      <td>4.0</td>\n",
       "      <td>0</td>\n",
       "      <td>0</td>\n",
       "    </tr>\n",
       "    <tr>\n",
       "      <th>5</th>\n",
       "      <td>5.0</td>\n",
       "      <td>0</td>\n",
       "      <td>360</td>\n",
       "    </tr>\n",
       "    <tr>\n",
       "      <th>...</th>\n",
       "      <td>...</td>\n",
       "      <td>...</td>\n",
       "      <td>...</td>\n",
       "    </tr>\n",
       "    <tr>\n",
       "      <th>74</th>\n",
       "      <td>74.0</td>\n",
       "      <td>79</td>\n",
       "      <td>0</td>\n",
       "    </tr>\n",
       "    <tr>\n",
       "      <th>75</th>\n",
       "      <td>75.0</td>\n",
       "      <td>180</td>\n",
       "      <td>0</td>\n",
       "    </tr>\n",
       "    <tr>\n",
       "      <th>76</th>\n",
       "      <td>76.0</td>\n",
       "      <td>0</td>\n",
       "      <td>0</td>\n",
       "    </tr>\n",
       "    <tr>\n",
       "      <th>77</th>\n",
       "      <td>77.0</td>\n",
       "      <td>68</td>\n",
       "      <td>0</td>\n",
       "    </tr>\n",
       "    <tr>\n",
       "      <th>78</th>\n",
       "      <td>78.0</td>\n",
       "      <td>0</td>\n",
       "      <td>0</td>\n",
       "    </tr>\n",
       "  </tbody>\n",
       "</table>\n",
       "<p>78 rows × 3 columns</p>\n",
       "</div>"
      ],
      "text/plain": [
       "0    0.0 p_6_e a_6_e\n",
       "1    1.0     0   463\n",
       "2    2.0    34     0\n",
       "3    3.0    32     0\n",
       "4    4.0     0     0\n",
       "5    5.0     0   360\n",
       "..   ...   ...   ...\n",
       "74  74.0    79     0\n",
       "75  75.0   180     0\n",
       "76  76.0     0     0\n",
       "77  77.0    68     0\n",
       "78  78.0     0     0\n",
       "\n",
       "[78 rows x 3 columns]"
      ]
     },
     "execution_count": 1,
     "metadata": {},
     "output_type": "execute_result"
    }
   ],
   "source": [
    "import numpy as np\n",
    "import pandas as pd\n",
    "from matplotlib import pyplot as plt\n",
    "\n",
    "df=pd.read_csv('distance_matrix.csv', sep=',',header=None)\n",
    "file_index = 7\n",
    "files = [\"flows.csv\",#0\n",
    "\"row1.csv\",#1\n",
    "\"row2.csv\",#2\n",
    "\"row3_employed_homebased_shopping.csv\",#3\n",
    "\"row3_unemployed_homebased_shopping.csv\",#4\n",
    "\"row4.csv\",#5\n",
    "\"row5.csv\",#6\n",
    "\"row6_homebound_employed_shoppers.csv\",#7\n",
    "\"row6_homebound_unemployed_shoppers.csv\",#8\n",
    "\"row7_afterwork_recreate.csv\",#9\n",
    "\"row7_coming_home_after_recreate.csv\",#10\n",
    "\"row7_comingfromlunch.csv\",#11\n",
    "\"row7_goingtolunch.csv\",#12\n",
    "\"row8_afterschool_extracurricular.csv\",#13\n",
    "\"row8_goinghome_extracurricular.csv\",#14\n",
    "\"row9_employed_homebound_shopping.csv\",#15\n",
    "\"row9_more_shopping_employed.csv\",#16\n",
    "\"row9_more_shopping_unemployed.csv\",#17\n",
    "\"row9_unemployed_homebound_shopping.csv\",#18\n",
    "\"TAZ Data - Sheet1.csv\",#19\n",
    "\"TAZ Data - Sheet2.csv\"]#20\n",
    "df1 = pd.read_csv('csv/' + files[file_index], sep=',',header=None).fillna(0)\n",
    "header = df1.iloc[0]\n",
    "df1 = df1.iloc[1:79]\n",
    "df1.columns = header\n",
    "#df1 = df1.drop(labels = ['iii', 'TAZ (8a)', 'iv'],axis = 1)\n",
    "vec = df1\n",
    "#df1 = df1.drop(labels = [header[0]],axis = 1)\n",
    "print(files[file_index])\n",
    "df1"
   ]
  },
  {
   "cell_type": "code",
   "execution_count": 2,
   "metadata": {},
   "outputs": [],
   "source": [
    "#df1.to_csv(\"flows_clean.csv\")"
   ]
  },
  {
   "cell_type": "code",
   "execution_count": 3,
   "metadata": {
    "scrolled": true
   },
   "outputs": [],
   "source": [
    "#convert entire dataframe from strings to int64 types. Select P and A arrays by column.\n",
    "vec = vec.apply(pd.to_numeric)\n",
    "trip_arr = vec.to_numpy()\n",
    "#header.drop([0,5,10]).reset_index(drop = True)"
   ]
  },
  {
   "cell_type": "code",
   "execution_count": 4,
   "metadata": {},
   "outputs": [],
   "source": [
    "#Set P and A Vectors using indicies printed above\n",
    "P = trip_arr[:,1]\n",
    "A = trip_arr[:,2]"
   ]
  },
  {
   "cell_type": "code",
   "execution_count": 5,
   "metadata": {},
   "outputs": [],
   "source": [
    "DM = pd.DataFrame(df).to_numpy()"
   ]
  },
  {
   "cell_type": "code",
   "execution_count": 6,
   "metadata": {},
   "outputs": [],
   "source": [
    "#distance matrix? with diagonals representing the average distance traveled to get to zone center\n",
    "D = DM"
   ]
  },
  {
   "cell_type": "code",
   "execution_count": 19,
   "metadata": {},
   "outputs": [
    {
     "name": "stdout",
     "output_type": "stream",
     "text": [
      "[ 462.89448461    0.            0.            0.          359.44314386\n",
      "    0.            0.            0.            0.            0.\n",
      "    0.            0.          461.67099765    0.            0.\n",
      "  411.90688764    0.            0.            0.            0.\n",
      "    0.            0.            0.            0.          515.01767064\n",
      "    0.            0.            0.            0.          309.01012978\n",
      "    0.            0.          256.21529832    0.            0.\n",
      "    0.            0.          873.03643926    0.            0.\n",
      "    0.            0.            0.            0.            0.\n",
      "    0.         2008.45685024    0.            0.            0.\n",
      "    0.            0.            0.          308.41713521    0.\n",
      "    0.            0.            0.            0.            0.\n",
      "    0.            0.            0.         1596.34605064    0.\n",
      "    0.          463.59581258    0.            0.            0.\n",
      "    0.         1648.98909957    0.            0.            0.\n",
      "    0.            0.            0.        ]\n",
      "[   0.   34.   32.    0.    0.    0.  203.  106.  203.   32.    0.   34.\n",
      "    0.    0.  271.    0.    0.  203.   32.    0.   64.    0.    0.   56.\n",
      "    0.  136.   53.    0.   32.    0.   12.    0.    0.  136.  338.   53.\n",
      "   26.    0.  406.   97.    0.   48.    0.   48.  132.    0.    0.  226.\n",
      "   97.    0. 1558.  194.   79.    0.    0.  419.    0.    0.  129.   56.\n",
      "   68.    0.  237.    0. 1258. 1152.    0.    0.  290.   53.    0.    0.\n",
      "  745.   79.  180.    0.   68.    0.]\n"
     ]
    },
    {
     "data": {
      "text/plain": [
       "array([ 462.89448461,    0.        ,    0.        ,    0.        ,\n",
       "        359.44314386,    0.        ,    0.        ,    0.        ,\n",
       "          0.        ,    0.        ,    0.        ,    0.        ,\n",
       "        461.67099765,    0.        ,    0.        ,  411.90688764,\n",
       "          0.        ,    0.        ,    0.        ,    0.        ,\n",
       "          0.        ,    0.        ,    0.        ,    0.        ,\n",
       "        515.01767064,    0.        ,    0.        ,    0.        ,\n",
       "          0.        ,  309.01012978,    0.        ,    0.        ,\n",
       "        256.21529832,    0.        ,    0.        ,    0.        ,\n",
       "          0.        ,  873.03643926,    0.        ,    0.        ,\n",
       "          0.        ,    0.        ,    0.        ,    0.        ,\n",
       "          0.        ,    0.        , 2008.45685024,    0.        ,\n",
       "          0.        ,    0.        ,    0.        ,    0.        ,\n",
       "          0.        ,  308.41713521,    0.        ,    0.        ,\n",
       "          0.        ,    0.        ,    0.        ,    0.        ,\n",
       "          0.        ,    0.        ,    0.        , 1596.34605064,\n",
       "          0.        ,    0.        ,  463.59581258,    0.        ,\n",
       "          0.        ,    0.        ,    0.        , 1648.98909957,\n",
       "          0.        ,    0.        ,    0.        ,    0.        ,\n",
       "          0.        ,    0.        ])"
      ]
     },
     "execution_count": 19,
     "metadata": {},
     "output_type": "execute_result"
    }
   ],
   "source": [
    "# Gravity model - given A, we want A^* to be used so sum_i T_ij = A_j\n",
    "# A_j is the total trip attraction at zone j\n",
    "#P_i = total trip production at zone i\n",
    "#T_ij is the trips produced at I and attracted to j\n",
    "#F_ij is the calibration term for interchange ij also known as the friction factor or tracel time factor\n",
    "\n",
    "dims = A.shape[0]\n",
    "A = A.reshape(dims, 1)\n",
    "P = P.reshape(dims, 1)\n",
    "\n",
    "def calculate_T(A, P, D):\n",
    "    # invert and square for disutility\n",
    "    F = np.power(D,-2)\n",
    "    T = np.zeros_like(D)\n",
    "    \n",
    "    for i in range(T.shape[0]):\n",
    "        for j in range(T.shape[1]):\n",
    "            denom = F[i,:] @ A\n",
    "            T[i,j] = P[i]*F[i,j]*A[j]/denom\n",
    "    \n",
    "    return T\n",
    "    \n",
    "def calculate_A_star(A, P, D):\n",
    "    A_old = A.copy()\n",
    "    C = np.ones_like(A)\n",
    "    eps = 1e1\n",
    "    n = A.shape[0]\n",
    "    \n",
    "    while (np.linalg.norm(C-A) > eps):\n",
    "        T = calculate_T(A_old, P, D)\n",
    "        C = T.sum(axis=0).reshape(n,1)\n",
    "        \n",
    "        for j in range(n):\n",
    "            if C[j] != 0:\n",
    "                A_old[j] = A[j]*A_old[j] / C[j]\n",
    "        \n",
    "    return A_old\n",
    "    \n",
    "A_star = calculate_A_star(A, P, D)\n",
    "T = calculate_T(A_star, P, D)\n",
    "\n",
    "print(T.sum(axis=0)) # should equal A\n",
    "print(T.sum(axis=1)) # should equal P\n",
    "sum(T)"
   ]
  },
  {
   "cell_type": "code",
   "execution_count": 8,
   "metadata": {},
   "outputs": [
    {
     "name": "stdout",
     "output_type": "stream",
     "text": [
      "[[ 0.          0.          0.         ...  0.          0.\n",
      "   0.        ]\n",
      " [31.89557284  0.          0.         ...  0.          0.\n",
      "   0.        ]\n",
      " [21.92987059  0.          0.         ...  0.          0.\n",
      "   0.        ]\n",
      " ...\n",
      " [ 0.          0.          0.         ...  0.          0.\n",
      "   0.        ]\n",
      " [ 0.53450468  0.          0.         ...  0.          0.\n",
      "   0.        ]\n",
      " [ 0.          0.          0.         ...  0.          0.\n",
      "   0.        ]]\n",
      "(78, 78)\n"
     ]
    },
    {
     "data": {
      "text/plain": [
       "9675.0"
      ]
     },
     "execution_count": 8,
     "metadata": {},
     "output_type": "execute_result"
    }
   ],
   "source": [
    "print(T)\n",
    "print(np.shape(T))"
   ]
  },
  {
   "cell_type": "code",
   "execution_count": 9,
   "metadata": {},
   "outputs": [
    {
     "name": "stdout",
     "output_type": "stream",
     "text": [
      "(array([64, 62, 16, ..., 11, 74,  8]), array([62, 64, 17, ..., 74,  8, 74]))\n"
     ]
    }
   ],
   "source": [
    "N = np.unravel_index(np.argsort(D.ravel()), np.shape(D))\n",
    "print(N)"
   ]
  },
  {
   "cell_type": "code",
   "execution_count": 10,
   "metadata": {},
   "outputs": [
    {
     "name": "stdout",
     "output_type": "stream",
     "text": [
      "[   0.    0.    0. ... 9675. 9675. 9675.]\n",
      "[ 0.18294641  0.18294641  0.56568542 ... 22.24613028 23.14822482\n",
      " 23.14822482]\n"
     ]
    }
   ],
   "source": [
    "y = np.zeros(np.size(T))\n",
    "y_dens = np.zeros(np.size(T))\n",
    "x = np.zeros(np.size(T))\n",
    "for i in range(np.size(T)):\n",
    "    if i == 0:\n",
    "        y[i] = T[N[0][i], N[1][i]]\n",
    "    else:\n",
    "        y[i] = y[i-1] + T[N[0][i], N[1][i]]\n",
    "        y_dens[i] = T[N[0][i], N[1][i]]\n",
    "    x[i] = D[N[0][i], N[1][i]]\n",
    "print(y)\n",
    "print(x)\n",
    "    "
   ]
  },
  {
   "cell_type": "code",
   "execution_count": 11,
   "metadata": {},
   "outputs": [
    {
     "data": {
      "image/png": "[encoded data removed]",
      "text/plain": [
       "<Figure size 432x288 with 1 Axes>"
      ]
     },
     "metadata": {
      "needs_background": "light"
     },
     "output_type": "display_data"
    }
   ],
   "source": [
    "plt.plot(x,y/max(y))\n",
    "plt.xlabel('Distance(miles)')\n",
    "plt.ylabel('Probability d < Distance')\n",
    "plt.title(\"CDF of trip distance\")\n",
    "plt.grid()"
   ]
  },
  {
   "cell_type": "code",
   "execution_count": 12,
   "metadata": {},
   "outputs": [
    {
     "data": {
      "image/png": "[encoded data removed]",
      "text/plain": [
       "<Figure size 432x288 with 1 Axes>"
      ]
     },
     "metadata": {
      "needs_background": "light"
     },
     "output_type": "display_data"
    }
   ],
   "source": [
    "plt.plot(x,y_dens)\n",
    "plt.xlabel('Distance(miles)')\n",
    "plt.ylabel('Probability Density')\n",
    "plt.title(\"PDF of trip distance\")\n",
    "plt.grid()"
   ]
  },
  {
   "cell_type": "code",
   "execution_count": 13,
   "metadata": {},
   "outputs": [
    {
     "data": {
      "text/html": [
       "<div>\n",
       "<style scoped>\n",
       "    .dataframe tbody tr th:only-of-type {\n",
       "        vertical-align: middle;\n",
       "    }\n",
       "\n",
       "    .dataframe tbody tr th {\n",
       "        vertical-align: top;\n",
       "    }\n",
       "\n",
       "    .dataframe thead th {\n",
       "        text-align: right;\n",
       "    }\n",
       "</style>\n",
       "<table border=\"1\" class=\"dataframe\">\n",
       "  <thead>\n",
       "    <tr style=\"text-align: right;\">\n",
       "      <th></th>\n",
       "      <th>TAZ</th>\n",
       "      <th>Label</th>\n",
       "      <th>Pix_Count</th>\n",
       "      <th>X_Centroid</th>\n",
       "      <th>Y_Centroid</th>\n",
       "      <th>Var6</th>\n",
       "    </tr>\n",
       "  </thead>\n",
       "  <tbody>\n",
       "    <tr>\n",
       "      <th>1</th>\n",
       "      <td>1</td>\n",
       "      <td>6</td>\n",
       "      <td>9</td>\n",
       "      <td>2.888888889</td>\n",
       "      <td>4.666666667</td>\n",
       "      <td>Residential</td>\n",
       "    </tr>\n",
       "    <tr>\n",
       "      <th>2</th>\n",
       "      <td>2</td>\n",
       "      <td>2</td>\n",
       "      <td>3</td>\n",
       "      <td>2</td>\n",
       "      <td>4</td>\n",
       "      <td>Greenland</td>\n",
       "    </tr>\n",
       "    <tr>\n",
       "      <th>3</th>\n",
       "      <td>3</td>\n",
       "      <td>3</td>\n",
       "      <td>1</td>\n",
       "      <td>2</td>\n",
       "      <td>7</td>\n",
       "      <td>Beach (leisure)</td>\n",
       "    </tr>\n",
       "    <tr>\n",
       "      <th>4</th>\n",
       "      <td>4</td>\n",
       "      <td>1</td>\n",
       "      <td>247</td>\n",
       "      <td>8.497975709</td>\n",
       "      <td>18.15789474</td>\n",
       "      <td>Seawater</td>\n",
       "    </tr>\n",
       "    <tr>\n",
       "      <th>5</th>\n",
       "      <td>5</td>\n",
       "      <td>6</td>\n",
       "      <td>7</td>\n",
       "      <td>2.285714286</td>\n",
       "      <td>21.42857143</td>\n",
       "      <td>Residential</td>\n",
       "    </tr>\n",
       "    <tr>\n",
       "      <th>...</th>\n",
       "      <td>...</td>\n",
       "      <td>...</td>\n",
       "      <td>...</td>\n",
       "      <td>...</td>\n",
       "      <td>...</td>\n",
       "      <td>...</td>\n",
       "    </tr>\n",
       "    <tr>\n",
       "      <th>74</th>\n",
       "      <td>74</td>\n",
       "      <td>8</td>\n",
       "      <td>3</td>\n",
       "      <td>28.33333333</td>\n",
       "      <td>19.33333333</td>\n",
       "      <td>Dispensaries</td>\n",
       "    </tr>\n",
       "    <tr>\n",
       "      <th>75</th>\n",
       "      <td>75</td>\n",
       "      <td>2</td>\n",
       "      <td>16</td>\n",
       "      <td>31.4375</td>\n",
       "      <td>7.0625</td>\n",
       "      <td>Greenland</td>\n",
       "    </tr>\n",
       "    <tr>\n",
       "      <th>76</th>\n",
       "      <td>76</td>\n",
       "      <td>5</td>\n",
       "      <td>4</td>\n",
       "      <td>30.5</td>\n",
       "      <td>15.5</td>\n",
       "      <td>K-12</td>\n",
       "    </tr>\n",
       "    <tr>\n",
       "      <th>77</th>\n",
       "      <td>77</td>\n",
       "      <td>2</td>\n",
       "      <td>6</td>\n",
       "      <td>31.83333333</td>\n",
       "      <td>16.66666667</td>\n",
       "      <td>Greenland</td>\n",
       "    </tr>\n",
       "    <tr>\n",
       "      <th>78</th>\n",
       "      <td>78</td>\n",
       "      <td>10</td>\n",
       "      <td>8</td>\n",
       "      <td>31.75</td>\n",
       "      <td>18.625</td>\n",
       "      <td>Professional Office (downtown)</td>\n",
       "    </tr>\n",
       "  </tbody>\n",
       "</table>\n",
       "<p>78 rows × 6 columns</p>\n",
       "</div>"
      ],
      "text/plain": [
       "0  TAZ Label Pix_Count   X_Centroid   Y_Centroid  \\\n",
       "1    1     6         9  2.888888889  4.666666667   \n",
       "2    2     2         3            2            4   \n",
       "3    3     3         1            2            7   \n",
       "4    4     1       247  8.497975709  18.15789474   \n",
       "5    5     6         7  2.285714286  21.42857143   \n",
       "..  ..   ...       ...          ...          ...   \n",
       "74  74     8         3  28.33333333  19.33333333   \n",
       "75  75     2        16      31.4375       7.0625   \n",
       "76  76     5         4         30.5         15.5   \n",
       "77  77     2         6  31.83333333  16.66666667   \n",
       "78  78    10         8        31.75       18.625   \n",
       "\n",
       "0                             Var6  \n",
       "1                      Residential  \n",
       "2                        Greenland  \n",
       "3                  Beach (leisure)  \n",
       "4                         Seawater  \n",
       "5                      Residential  \n",
       "..                             ...  \n",
       "74                    Dispensaries  \n",
       "75                       Greenland  \n",
       "76                            K-12  \n",
       "77                       Greenland  \n",
       "78  Professional Office (downtown)  \n",
       "\n",
       "[78 rows x 6 columns]"
      ]
     },
     "execution_count": 13,
     "metadata": {},
     "output_type": "execute_result"
    }
   ],
   "source": [
    "\n",
    "df2=pd.read_csv('problem8_tensorData - problem8_tensorData.csv', sep=',',header=None)\n",
    "header_csv = df2.iloc[0]\n",
    "df2.columns = header_csv\n",
    "df2 = df2.iloc[1:79]\n",
    "df2"
   ]
  },
  {
   "cell_type": "code",
   "execution_count": 14,
   "metadata": {},
   "outputs": [],
   "source": [
    "lat = np.linspace(37.67637961,37.90768039,num = 31)\n",
    "lon = np.linspace(-122.5191224,-122.2878216, num = 31)\n",
    "lat_step = (37.90768039-37.67637961) / 31.0\n",
    "lon_step = (-122.2878216 - -122.5191224) / 31.0"
   ]
  },
  {
   "cell_type": "code",
   "execution_count": 15,
   "metadata": {},
   "outputs": [
    {
     "name": "stdout",
     "output_type": "stream",
     "text": [
      "[ 3.66666667  3.          6.         17.15789474 20.42857143 23.5\n",
      " 25.66666667 27.75       31.          7.         29.         31.\n",
      " 32.          2.          7.5         9.375       1.          1.66666667\n",
      "  3.          3.          4.          7.         31.          1.\n",
      "  3.4         7.5        27.          2.          5.         12.83333333\n",
      " 21.          5.75       29.4        31.          2.2         7.\n",
      "  5.         31.05882353 31.83333333  2.          2.21153846  6.\n",
      " 28.75       24.         26.8         6.14285714  9.15384615 15.42857143\n",
      " 20.5        25.67005076 13.95652174 26.5        18.33333333 28.5\n",
      " 30.          2.61538461 16.57142857 12.5        19.          5.6\n",
      " 18.          6.4        10.38095238 17.09677419 10.61904762  4.47058824\n",
      "  5.88888889 15.2        20.88888889  3.          6.         10.5625\n",
      " 14.63636364 18.33333333  6.0625     14.5        15.66666667 17.625     ]\n",
      "[ 1.88888889  1.          1.          7.49797571  1.28571429  1.\n",
      "  1.33333333  1.25        1.          2.          4.5         3.\n",
      "  6.          3.          3.5         5.          4.          4.66666667\n",
      "  4.          5.          5.5         5.          6.5         8.\n",
      "  8.1         6.          6.5         8.          7.          7.33333333\n",
      "  7.          9.125       9.4         9.5        10.6        10.5\n",
      " 11.         16.         13.16666667 12.         21.71153846 13.\n",
      " 13.25       13.         13.6        15.28571429 16.51282051 14.57142857\n",
      " 15.         24.58883249 18.7826087  16.         16.66666667 17.\n",
      " 17.         19.84615385 18.14285714 18.         19.5        19.6\n",
      " 19.         20.8        22.9047619  24.32258065 23.0952381  25.47058824\n",
      " 23.33333333 22.4        24.22222222 24.5        27.8        29.625\n",
      " 27.90909091 27.33333333 30.4375     29.5        30.83333333 30.75      ]\n"
     ]
    }
   ],
   "source": [
    "#conversions\n",
    "lats = pd.to_numeric(df2.iloc[:, 4])\n",
    "lats = pd.Series(lats).to_numpy()-1\n",
    "latitudes = 37.90768039 - (lats) * lat_step\n",
    "lons = pd.to_numeric(df2.iloc[:, 3])\n",
    "lons = pd.Series(lons).to_numpy()-1\n",
    "longitudes = (lons) * lon_step + -122.5191224\n",
    "print(lats)\n",
    "print(lons)"
   ]
  },
  {
   "cell_type": "code",
   "execution_count": 16,
   "metadata": {},
   "outputs": [
    {
     "data": {
      "text/html": [
       "<div>\n",
       "<style scoped>\n",
       "    .dataframe tbody tr th:only-of-type {\n",
       "        vertical-align: middle;\n",
       "    }\n",
       "\n",
       "    .dataframe tbody tr th {\n",
       "        vertical-align: top;\n",
       "    }\n",
       "\n",
       "    .dataframe thead th {\n",
       "        text-align: right;\n",
       "    }\n",
       "</style>\n",
       "<table border=\"1\" class=\"dataframe\">\n",
       "  <thead>\n",
       "    <tr style=\"text-align: right;\">\n",
       "      <th></th>\n",
       "      <th>0</th>\n",
       "      <th>1</th>\n",
       "    </tr>\n",
       "  </thead>\n",
       "  <tbody>\n",
       "    <tr>\n",
       "      <th>0</th>\n",
       "      <td>37.880322</td>\n",
       "      <td>-122.505029</td>\n",
       "    </tr>\n",
       "    <tr>\n",
       "      <th>1</th>\n",
       "      <td>37.885296</td>\n",
       "      <td>-122.511661</td>\n",
       "    </tr>\n",
       "    <tr>\n",
       "      <th>2</th>\n",
       "      <td>37.862912</td>\n",
       "      <td>-122.511661</td>\n",
       "    </tr>\n",
       "    <tr>\n",
       "      <th>3</th>\n",
       "      <td>37.779660</td>\n",
       "      <td>-122.463178</td>\n",
       "    </tr>\n",
       "    <tr>\n",
       "      <th>4</th>\n",
       "      <td>37.755256</td>\n",
       "      <td>-122.509529</td>\n",
       "    </tr>\n",
       "    <tr>\n",
       "      <th>...</th>\n",
       "      <td>...</td>\n",
       "      <td>...</td>\n",
       "    </tr>\n",
       "    <tr>\n",
       "      <th>73</th>\n",
       "      <td>37.770890</td>\n",
       "      <td>-122.315180</td>\n",
       "    </tr>\n",
       "    <tr>\n",
       "      <th>74</th>\n",
       "      <td>37.862446</td>\n",
       "      <td>-122.292019</td>\n",
       "    </tr>\n",
       "    <tr>\n",
       "      <th>75</th>\n",
       "      <td>37.799491</td>\n",
       "      <td>-122.299014</td>\n",
       "    </tr>\n",
       "    <tr>\n",
       "      <th>76</th>\n",
       "      <td>37.790786</td>\n",
       "      <td>-122.289065</td>\n",
       "    </tr>\n",
       "    <tr>\n",
       "      <th>77</th>\n",
       "      <td>37.776175</td>\n",
       "      <td>-122.289687</td>\n",
       "    </tr>\n",
       "  </tbody>\n",
       "</table>\n",
       "<p>78 rows × 2 columns</p>\n",
       "</div>"
      ],
      "text/plain": [
       "            0           1\n",
       "0   37.880322 -122.505029\n",
       "1   37.885296 -122.511661\n",
       "2   37.862912 -122.511661\n",
       "3   37.779660 -122.463178\n",
       "4   37.755256 -122.509529\n",
       "..        ...         ...\n",
       "73  37.770890 -122.315180\n",
       "74  37.862446 -122.292019\n",
       "75  37.799491 -122.299014\n",
       "76  37.790786 -122.289065\n",
       "77  37.776175 -122.289687\n",
       "\n",
       "[78 rows x 2 columns]"
      ]
     },
     "execution_count": 16,
     "metadata": {},
     "output_type": "execute_result"
    }
   ],
   "source": [
    "coordinates = np.array([latitudes, longitudes])\n",
    "np.shape(coordinates.T)\n",
    "coord = pd.DataFrame(coordinates.T)\n",
    "coord.to_csv(\"coords.csv\")\n",
    "coord\n",
    "\n"
   ]
  },
  {
   "cell_type": "code",
   "execution_count": null,
   "metadata": {},
   "outputs": [],
   "source": []
  },
  {
   "cell_type": "code",
   "execution_count": null,
   "metadata": {},
   "outputs": [],
   "source": []
  }
 ],
 "metadata": {
  "kernelspec": {
   "display_name": "Python 3",
   "language": "python",
   "name": "python3"
  },
  "language_info": {
   "codemirror_mode": {
    "name": "ipython",
    "version": 3
   },
   "file_extension": ".py",
   "mimetype": "text/x-python",
   "name": "python",
   "nbconvert_exporter": "python",
   "pygments_lexer": "ipython3",
   "version": "3.8.3"
  },
  "toc": {
   "base_numbering": 1,
   "nav_menu": {},
   "number_sections": true,
   "sideBar": true,
   "skip_h1_title": false,
   "title_cell": "Table of Contents",
   "title_sidebar": "Contents",
   "toc_cell": false,
   "toc_position": {},
   "toc_section_display": true,
   "toc_window_display": false
  }
 },
 "nbformat": 4,
 "nbformat_minor": 2
}
